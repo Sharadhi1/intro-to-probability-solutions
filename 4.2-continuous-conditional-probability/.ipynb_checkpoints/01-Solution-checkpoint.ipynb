{
 "cells": [
  {
   "cell_type": "markdown",
   "metadata": {},
   "source": [
    "# Pick a point $x$ at random (with uniform density) in the interval [0,1]\n",
    "\n",
    "# Find the probability that $x>\\frac{1}{2}$ given that:\n",
    "\n",
    "## a) $ x > \\frac{1}{4}$\n",
    "\n",
    "## b) $x<\\frac{3}{4}$\n",
    "\n",
    "## c) $|x-\\frac{1}{2}|<\\frac{1}{4}$\n",
    "\n",
    "## d) $x^{2}-x+\\frac{2}{9}<0$"
   ]
  },
  {
   "cell_type": "markdown",
   "metadata": {},
   "source": [
    "___\n",
    "# a)\n",
    "\n",
    "## We define $E$ as $x>\\frac{1}{4}$, and $F$ as $x>\\frac{1}{2}$\n",
    "\n",
    "## So $P(F|E) = \\frac{P(E\\cap F)}{P(E)} = \\frac{P(x>\\frac{1}{2})}{P(x>\\frac{1}{4})} = \\frac{\\frac{1}{2}}{\\frac{3}{4}} = \\frac{2}{3}$"
   ]
  }
 ],
 "metadata": {
  "kernelspec": {
   "display_name": "Python 2",
   "language": "python",
   "name": "python2"
  },
  "language_info": {
   "codemirror_mode": {
    "name": "ipython",
    "version": 2
   },
   "file_extension": ".py",
   "mimetype": "text/x-python",
   "name": "python",
   "nbconvert_exporter": "python",
   "pygments_lexer": "ipython2",
   "version": "2.7.11"
  }
 },
 "nbformat": 4,
 "nbformat_minor": 0
}
