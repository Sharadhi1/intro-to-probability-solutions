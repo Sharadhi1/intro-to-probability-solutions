{
 "cells": [
  {
   "cell_type": "markdown",
   "metadata": {},
   "source": [
    "# Let $S_{n}$ be the number of successes in $n$ Bernoulli trials with $p=0.8$\n",
    "\n",
    "# Let $A_{n} = \\frac{S_{n}}{n}$ be the average number of successes in the $n-trials$ (i.e. the observed probabilty of success)\n",
    "\n",
    "# In each case, give the value of the limit and the reason why:"
   ]
  }
 ],
 "metadata": {
  "kernelspec": {
   "display_name": "Python 3",
   "language": "python",
   "name": "python3"
  },
  "language_info": {
   "codemirror_mode": {
    "name": "ipython",
    "version": 3
   },
   "file_extension": ".py",
   "mimetype": "text/x-python",
   "name": "python",
   "nbconvert_exporter": "python",
   "pygments_lexer": "ipython3",
   "version": "3.6.4"
  }
 },
 "nbformat": 4,
 "nbformat_minor": 2
}
