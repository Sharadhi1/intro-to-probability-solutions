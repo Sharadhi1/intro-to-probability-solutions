{
 "cells": [
  {
   "cell_type": "markdown",
   "metadata": {},
   "source": [
    "- So far, we've been thinking about independent trials\n",
    "    - Since the trials all have identical densities, we can use a single experiment to extrapolate all possible outcomes of the series of experiments\n",
    "    \n",
    "- In a Markov chain process, the outcome of each experiment affects the outcome of future experiments (essentially a *dependent* trials process)"
   ]
  },
  {
   "cell_type": "markdown",
   "metadata": {},
   "source": [
    "# Definition of Markov Chain"
   ]
  },
  {
   "cell_type": "markdown",
   "metadata": {},
   "source": [
    "### We have a set of states $S = \\left \\{ s_{1}, s_{2}, ..., s_{r} \\right \\}$"
   ]
  },
  {
   "cell_type": "markdown",
   "metadata": {},
   "source": [
    "### The process starts in some state $s_{i}$ (not necessarily $s_{1}$)"
   ]
  },
  {
   "cell_type": "markdown",
   "metadata": {},
   "source": [
    "### The process then takes a \"step\" and moves to another state (note: can stay in current state)"
   ]
  },
  {
   "cell_type": "markdown",
   "metadata": {},
   "source": [
    "### If the process moves from state $i$ to state $j$, the probability of such a move is denoted $p_{ij}$ (therefore, the probability that it stays in state $i$ is denoted $p_{ii}$\n",
    "\n",
    "### These probabilities are called *transition probabilities*"
   ]
  },
  {
   "cell_type": "markdown",
   "metadata": {},
   "source": [
    "_____\n",
    "\n",
    "## Example\n",
    "\n",
    "- The Land of Oz is blessed by many things, but not by good weather\n",
    "- They never have two nice days in a row\n",
    "- If they have a nice day, they are just as likely to have snow or rain the next day\n",
    "- If they have snow or rain, they have a 50% chance of having it the next day\n",
    "    - They have a 25% chance of having a nice day the following day\n",
    "    \n",
    "- **We use this info to build our *transition matrix* **\n",
    "\n",
    "![](images/Oz_matrix.PNG)"
   ]
  },
  {
   "cell_type": "markdown",
   "metadata": {},
   "source": [
    "- As we can see from the matrix above, if we start in the first row (i.e. our current state is that it rained today), then the probability of rain tomorrow is 1/2, the probability of it being a nice day tomorrow is 1/4, and the probability of it snowing tomorrow is 1/4"
   ]
  },
  {
   "cell_type": "markdown",
   "metadata": {},
   "source": [
    "### How can we answer the following question: *what is the probability that it snows two days from now given that it's raining today?*\n",
    "\n",
    "- To calculate this, we need to take the sum of three probabilities:\n",
    "\n",
    "1. It rains tomorrow, and it snows the following day\n",
    "2. It is nice tomorrow, and it snows the following day\n",
    "3. It snows tomorrow, and it snows the following day as well\n",
    "\n",
    "- The probability of event 1 is (1/2)(1/4) = 1/8\n",
    "- The probability of event 2 is (1/4)(1/2) = 1/8\n",
    "- The probability of event 3 is (1/4)(1/2) = 1/8\n",
    "\n",
    "### Therefore, the answer is 3/8"
   ]
  },
  {
   "cell_type": "markdown",
   "metadata": {},
   "source": [
    "### More generally, if we want represent rain as state 1, nice day as state 2, and snow as state three, then:\n",
    "\n",
    "# $p_{13}^{(2)} = p_{11}p_{13} + p_{12}p_{23} + p_{13}p_{33}$"
   ]
  },
  {
   "cell_type": "markdown",
   "metadata": {},
   "source": [
    "# Recall: if we matrix multiply a 3x3 matrix with itself:\n",
    "\n",
    "# $\\begin{pmatrix} p_{11} & p_{12} & p_{13}\\\\ p_{21} & p_{22} & p_{23}\\\\ p_{31} & p_{32} & p_{33} \\end{pmatrix} \\cdot \\begin{pmatrix} p_{11} & p_{12} & p_{13}\\\\ p_{21} & p_{22} & p_{23}\\\\ p_{31} & p_{32} & p_{33} \\end{pmatrix}$\n",
    "\n",
    "$=\\begin{pmatrix} \\left ( p_{11}^{2}+p_{12}p_{21}+p_{13}p_{31}\\right ) & \\left ( p_{11}p_{12} + p_{12}p_{22}+p_{13}p_{32} \\right ) & \\left ( p_{11}p_{13}+p_{12}p_{23}+p_{13}p_{33} \\right )\\\\  \\left (p_{21}p_{11}+p_{22}p_{21}+p_{23}p_{31} \\right ) & \\left (p_{21}p_{12} + p_{22}^{2}+p_{23}p_{32} \\right ) & \\left(  (p_{21}p_{13}+p_{22}p_{23}+p_{23}p_{33}\\right)\\\\  \\left (p_{31}p_{11}+p_{32}p_{21}+p_{33}p_{31} \\right ) & \\left (p_{31}p_{12}+p_{32}p_{22}+p_{33}p_{32} \\right ) & \\left (p_{31}p_{13}+p_{32}p_{23}+p_{33}^{2} \\right ) \\end{pmatrix}$"
   ]
  },
  {
   "cell_type": "markdown",
   "metadata": {},
   "source": [
    "### If we look at the top right corner of the matrix, we see $p_{13}^{(2)}$\n",
    "\n",
    "### This leads to the following theorem..."
   ]
  },
  {
   "cell_type": "markdown",
   "metadata": {},
   "source": [
    "_____\n",
    "\n",
    "# Theorem 11.1\n",
    "\n",
    "# Let `P` be the transition matrix of a Markov chain\n",
    "\n",
    "# Then $p_{ij}^{(n)}$ is equal to the $ij^{th}$ element of `P`$^{n}$ (i.e. the value in the $i^{th}$ row and $j^{th}$ column)"
   ]
  },
  {
   "cell_type": "markdown",
   "metadata": {},
   "source": [
    "_____\n",
    "\n",
    "### We'll calculate the matrix `P`$^{n}$ in our previous example for $n$ in $[1,2,...,6]$"
   ]
  },
  {
   "cell_type": "code",
   "execution_count": 1,
   "metadata": {
    "collapsed": true
   },
   "outputs": [],
   "source": [
    "import numpy as np\n",
    "import pandas as pd"
   ]
  },
  {
   "cell_type": "code",
   "execution_count": 2,
   "metadata": {
    "collapsed": false
   },
   "outputs": [
    {
     "data": {
      "text/html": [
       "<div>\n",
       "<table border=\"1\" class=\"dataframe\">\n",
       "  <thead>\n",
       "    <tr style=\"text-align: right;\">\n",
       "      <th></th>\n",
       "      <th>Rain</th>\n",
       "      <th>Nice</th>\n",
       "      <th>Snow</th>\n",
       "    </tr>\n",
       "  </thead>\n",
       "  <tbody>\n",
       "    <tr>\n",
       "      <th>Rain</th>\n",
       "      <td>0.5</td>\n",
       "      <td>0.25</td>\n",
       "      <td>0.25</td>\n",
       "    </tr>\n",
       "    <tr>\n",
       "      <th>Nice</th>\n",
       "      <td>0.5</td>\n",
       "      <td>0</td>\n",
       "      <td>0.5</td>\n",
       "    </tr>\n",
       "    <tr>\n",
       "      <th>Snow</th>\n",
       "      <td>0.25</td>\n",
       "      <td>0.25</td>\n",
       "      <td>0.5</td>\n",
       "    </tr>\n",
       "  </tbody>\n",
       "</table>\n",
       "</div>"
      ],
      "text/plain": [
       "      Rain  Nice  Snow\n",
       "Rain   0.5  0.25  0.25\n",
       "Nice   0.5     0   0.5\n",
       "Snow  0.25  0.25   0.5"
      ]
     },
     "execution_count": 2,
     "metadata": {},
     "output_type": "execute_result"
    }
   ],
   "source": [
    "list_states = ['Rain', 'Nice', 'Snow']\n",
    "df_P = pd.DataFrame(columns = list_states, index = list_states)\n",
    "df_P.loc['Rain'] = [0.5,0.25,0.25]\n",
    "df_P.loc['Nice'] = [0.5,0,0.5]\n",
    "df_P.loc['Snow'] = [0.25,0.25,0.5]\n",
    "df_P"
   ]
  },
  {
   "cell_type": "code",
   "execution_count": 10,
   "metadata": {
    "collapsed": false
   },
   "outputs": [
    {
     "name": "stdout",
     "output_type": "stream",
     "text": [
      "\n",
      " n=1\n",
      "      Rain  Nice  Snow\n",
      "Rain   0.5  0.25  0.25\n",
      "Nice   0.5     0   0.5\n",
      "Snow  0.25  0.25   0.5\n",
      "\n",
      " n=2\n",
      "        Rain    Nice    Snow\n",
      "Rain  0.4375  0.1875   0.375\n",
      "Nice   0.375    0.25   0.375\n",
      "Snow   0.375  0.1875  0.4375\n",
      "\n",
      " n=3\n",
      "          Rain      Nice      Snow\n",
      "Rain   0.40625  0.203125  0.390625\n",
      "Nice   0.40625    0.1875   0.40625\n",
      "Snow  0.390625  0.203125   0.40625\n",
      "\n",
      " n=4\n",
      "           Rain       Nice       Snow\n",
      "Rain  0.4023438  0.1992188  0.3984375\n",
      "Nice  0.3984375   0.203125  0.3984375\n",
      "Snow  0.3984375  0.1992188  0.4023438\n",
      "\n",
      " n=5\n",
      "           Rain       Nice       Snow\n",
      "Rain  0.4003906  0.2001953  0.3994141\n",
      "Nice  0.4003906  0.1992188  0.4003906\n",
      "Snow  0.3994141  0.2001953  0.4003906\n",
      "\n",
      " n=6\n",
      "           Rain       Nice       Snow\n",
      "Rain  0.4001465  0.1999512  0.3999023\n",
      "Nice  0.3999023  0.2001953  0.3999023\n",
      "Snow  0.3999023  0.1999512  0.4001465\n"
     ]
    }
   ],
   "source": [
    "matrix = df_P.as_matrix()\n",
    "\n",
    "for n in [1,2,3,4,5,6]:\n",
    "    P_n = np.linalg.matrix_power(matrix, n)\n",
    "    df_n = pd.DataFrame(P_n, columns = list_states, index = list_states)\n",
    "    print('\\n n={}'.format(n))\n",
    "    print(df_n)"
   ]
  },
  {
   "cell_type": "markdown",
   "metadata": {},
   "source": [
    "### As we can see, the value in the top right corner is equal to our calculated probability of 3/8"
   ]
  },
  {
   "cell_type": "markdown",
   "metadata": {},
   "source": [
    "## We also note that by $n=6$, the probability of rain in 6 days is about 0.4 regardless of today's state\n",
    "\n",
    "## Similarly, the proability of it being nice in 6 days is 0.2 no matter what\n",
    "\n",
    "## This is an example of a *regular* Markov chain"
   ]
  },
  {
   "cell_type": "markdown",
   "metadata": {},
   "source": [
    "______\n",
    "\n",
    "# *Probability Vectors*\n",
    "\n",
    "### Now, let's assume that the starting state for a process follows a distribution\n",
    "\n",
    "### This distribution is called a *probability vector*\n",
    "\n",
    "- E.g. imagine if the probability vector for our previous example is $\\vec{u} = [1/2, 1/3, 1/6]$\n",
    "    - Then, the probability that our first state is Rain is 1/2, etc."
   ]
  },
  {
   "cell_type": "markdown",
   "metadata": {},
   "source": [
    "____\n",
    "\n",
    "# Theorem 11.2\n",
    "\n",
    "## Let `P` be the transition matrix of a Markov chain and $\\vec{u}$ then probability vector\n",
    "\n",
    "## Then $\\vec{u}^{n} = \\vec{u}$ `P` $^{n}$"
   ]
  },
  {
   "cell_type": "markdown",
   "metadata": {},
   "source": [
    "_____\n",
    "\n",
    "### Coming back to our previous example, let's assume $\\vec{u} = [1/3, 1/3, 1/3]$ (i.e. every starting state is equally likely)\n",
    "\n",
    "### Then, we want to know the probability of having a nice day in three days for each starting state. This is given by:\n",
    "\n",
    "# $\\vec{u}^{(3)} = \\vec{u}$ `P` $^{3}= [1/3, 1/3, 1/3]\\begin{pmatrix}0.40625 & 0.203125 & 0.390625\\\\ 0.40625 & 0.1875 & 0.40625\\\\ 0.39025 & 0.203125 & 0.40625\\end{pmatrix}$\n",
    "\n",
    "# $= [0.401, 0.198, 0.401]$"
   ]
  },
  {
   "cell_type": "markdown",
   "metadata": {},
   "source": [
    "### Therefore, the probability of it being a nice day in 3 days (without knowing today's weather) is about 0.198"
   ]
  },
  {
   "cell_type": "markdown",
   "metadata": {},
   "source": [
    "______\n",
    "\n",
    "# Examples\n",
    "\n",
    "## 11.4\n",
    "\n",
    "### The president of the United States tells person A his or her intention to run or not run in the next election\n",
    "\n",
    "### Then person A spreads the news to person B, person B spreads the news to person C, and so on and so forth\n",
    "\n",
    "### We assume that the probability of error (i.e. broken telephone where the wrong message is transmitted) is equal to $a$ if they're switching it from YES to NO, and equal to $b$ if they're switching it from NO to YES\n",
    "\n",
    "### Then we can represent this Markov process as:\n",
    "\n",
    "# `P`$=\\begin{pmatrix}(1-a) & a\\\\ b & (1-b)\\end{pmatrix}$\n",
    "\n",
    "### We can represent the president's probability vector as $\\bar{u} = [p, 1-p]$ where $p$ is the probability that he/she will run again"
   ]
  },
  {
   "cell_type": "markdown",
   "metadata": {},
   "source": [
    "_____\n",
    "\n",
    "## 11.5\n",
    "\n",
    "### Each time a certain horse runs in a three-horse race, he has a 1/2 probability of winning, a 1/4 probability of coming in second, and a 1/4 probability of coming in third. These probabilities are independent of the placement in the previous race\n",
    "\n",
    "### Then, we can represent this Markov process as:\n",
    "\n",
    "# `P` $= \\begin{pmatrix}0.5 & 0.25 & 0.25\\\\0.5 & 0.25 & 0.25\\\\0.5 & 0.25 & 0.25\\end{pmatrix}$"
   ]
  }
 ],
 "metadata": {
  "kernelspec": {
   "display_name": "Python 2",
   "language": "python",
   "name": "python2"
  },
  "language_info": {
   "codemirror_mode": {
    "name": "ipython",
    "version": 2
   },
   "file_extension": ".py",
   "mimetype": "text/x-python",
   "name": "python",
   "nbconvert_exporter": "python",
   "pygments_lexer": "ipython2",
   "version": "2.7.11"
  }
 },
 "nbformat": 4,
 "nbformat_minor": 0
}
