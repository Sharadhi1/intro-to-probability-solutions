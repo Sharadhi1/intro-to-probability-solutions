{
 "cells": [
  {
   "cell_type": "markdown",
   "metadata": {},
   "source": [
    "# In this section, we consider two quantities for erdogic chains:\n",
    "\n",
    "## 1. Mean time to return to a state\n",
    "\n",
    "## 2. Mean time to go from state $s_{i}$ to $s_{j}$"
   ]
  },
  {
   "cell_type": "markdown",
   "metadata": {},
   "source": [
    "# If $w$ is the unique fixed probability vector for an erdogic chain $P$, we know by the Law of Large numbers that we can expect the process to spend a proportion $w_{i}$ of steps in state $s_{i}$"
   ]
  },
  {
   "cell_type": "markdown",
   "metadata": {},
   "source": [
    "# If $s_{i}$ is the only absorbing state in the chain, we know with probability 1 that the process will eventually end up in state $s_{i}$"
   ]
  },
  {
   "cell_type": "markdown",
   "metadata": {},
   "source": [
    "# Let $N$ be the fundamental matrix for $P$\n",
    "\n",
    "# We know that element $n_{ij}$ tells us the expected number of steps spent in state $s_{j}$ given that we start in state $s_{i}$"
   ]
  },
  {
   "cell_type": "markdown",
   "metadata": {},
   "source": [
    "# We also know that $Nc$ gives us the expected number of steps between starting in each state and being absorbed"
   ]
  },
  {
   "cell_type": "markdown",
   "metadata": {},
   "source": [
    "_____\n",
    "\n",
    "# Definition - *Mean First Passage Time*\n",
    "\n",
    "### If an ergogic Markov chain starts in state $s_{i}$, the expected number of steps to reach state $s_{j}$ for the first time is called the *mean passage time from $s_{i}$ to $s_{j}$\n",
    "\n",
    "### It is denoted $m_{ij}$\n",
    "\n",
    "### Note: by convention, $m_{ii} = 0$"
   ]
  },
  {
   "cell_type": "markdown",
   "metadata": {},
   "source": [
    "____\n",
    "\n",
    "## Example\n",
    "\n",
    "### Consider the transition matrix from the maze problem"
   ]
  },
  {
   "cell_type": "markdown",
   "metadata": {},
   "source": [
    "## $P = \\begin{pmatrix}0 & 0.5 & 0 & 0 & 0.5 & 0 & 0 & 0 & 0\\\\ 0.3333 & 0 & 0.3333 & 0 & 0 & 0 & 0 & 0 & 0.3333\\\\ \n",
    "0 & 0.5 & 0 & 0.5 & 0 & 0 & 0 & 0 & 0\\\\ 0 & 0 & 0.3333 & 0 & 0 & 0.3333 & 0 & 0.3333 & 0.3333\\\\ 0.3333 & 0 & 0 & 0 & 0 & 0 & 0 & 0 & 0.3333\\\\ 0 & 0 & 0 & 0 & 0.5 & 0 & 0.5 & 0 & 0\\\\ 0 & 0 & 0 & 0 & 0 & 0.3333 & 0 & 0.3333 & 0.3333\\\\ 0 & 0 & 0 & 0.5 & 0 & 0 & 0.5 & 0 & 0\\\\ 0 & 0 & 0 & 0 & 0 & 0 & 0 & 0 & 1\\end{pmatrix}$"
   ]
  },
  {
   "cell_type": "markdown",
   "metadata": {},
   "source": [
    "## $\\implies Q = \\begin{pmatrix}0 & 0.5 & 0 & 0 & 0.5 & 0 & 0 & 0\\\\ 0.3333 & 0 & 0.3333 & 0 & 0 & 0 & 0 & 0\\\\ \n",
    "0 & 0.5 & 0 & 0.5 & 0 & 0 & 0 & 0\\\\ 0 & 0 & 0.3333 & 0 & 0 & 0.3333 & 0 & 0.3333\\\\ 0.3333 & 0 & 0 & 0 & 0 & 0 & 0 & 0\\\\ 0 & 0 & 0 & 0 & 0.5 & 0 & 0.5 & 0\\\\ 0 & 0 & 0 & 0 & 0 & 0.3333 & 0 & 0.3333\\\\ 0 & 0 & 0 & 0.5 & 0 & 0 & 0.5 & 0\\end{pmatrix}$"
   ]
  },
  {
   "cell_type": "markdown",
   "metadata": {},
   "source": [
    "## $\\implies (I-Q) = \\begin{pmatrix}1 & -0.5 & 0 & 0 & -0.5 & 0 & 0 & 0\\\\ -0.3333 & 1 & -0.3333 & 0 & 0 & 0 & 0 & 0\\\\ \n",
    "0 & -0.5 & 1 & -0.5 & 0 & 0 & 0 & 0\\\\ 0 & 0 & -0.3333 & 1 & 0 & -0.3333 & 0 & -0.3333\\\\ -0.3333 & 0 & 0 & 0 & 1 & 0 & 0 & 0\\\\ 0 & 0 & 0 & 0 & -0.5 & 1 & -0.5 & 0\\\\ 0 & 0 & 0 & 0 & 0 & -0.3333 & 1 & -0.3333\\\\ 0 & 0 & 0 & -0.5 & 0 & 0 & -0.5 & 1\\end{pmatrix}$"
   ]
  },
  {
   "cell_type": "markdown",
   "metadata": {},
   "source": [
    "**Using numpy to calculate the inverse**"
   ]
  },
  {
   "cell_type": "code",
   "execution_count": 1,
   "metadata": {
    "collapsed": true
   },
   "outputs": [],
   "source": [
    "import numpy as np"
   ]
  },
  {
   "cell_type": "code",
   "execution_count": 4,
   "metadata": {
    "collapsed": true
   },
   "outputs": [],
   "source": [
    "matrix = np.array([[1 , -0.5 , 0 , 0 , -0.5 , 0 , 0 , 0],\n",
    "                   [ -1/3.0 , 1 , -1/3.0 , 0 , 0 , 0 , 0 , 0],\n",
    "                   [ 0 , -0.5 , 1 , -0.5 , 0 , 0 , 0 , 0],\n",
    "                   [ 0 , 0 , -1/3.0 , 1 , 0 , -1/3.0 , 0 , -1/3.0],\n",
    "                   [ -1/3.0 , 0 , 0 , 0 , 1 , 0 , 0 , 0],\n",
    "                   [ 0 , 0 , 0 , 0 , -0.5 , 1 , -0.5 , 0],\n",
    "                   [ 0 , 0 , 0 , 0 , 0 , -1/3.0 , 1 , -1/3.0],\n",
    "                   [ 0 , 0 , 0 , -0.5 , 0 , 0 , -0.5 , 1]])"
   ]
  },
  {
   "cell_type": "code",
   "execution_count": 6,
   "metadata": {
    "collapsed": true
   },
   "outputs": [],
   "source": [
    "N = np.linalg.inv(matrix)"
   ]
  },
  {
   "cell_type": "code",
   "execution_count": 19,
   "metadata": {
    "collapsed": false
   },
   "outputs": [],
   "source": [
    "c = np.array([[1],[1],[1],[1],[1],[1],[1],[1]])"
   ]
  },
  {
   "cell_type": "code",
   "execution_count": 20,
   "metadata": {
    "collapsed": true
   },
   "outputs": [],
   "source": [
    "Nc = np.matmul(N,c)"
   ]
  },
  {
   "cell_type": "code",
   "execution_count": 21,
   "metadata": {
    "collapsed": false
   },
   "outputs": [
    {
     "data": {
      "text/plain": [
       "array([[ 4.8],\n",
       "       [ 5. ],\n",
       "       [ 7.2],\n",
       "       [ 7.4],\n",
       "       [ 2.6],\n",
       "       [ 4.8],\n",
       "       [ 5. ],\n",
       "       [ 7.2]])"
      ]
     },
     "execution_count": 21,
     "metadata": {},
     "output_type": "execute_result"
    }
   ],
   "source": [
    "Nc"
   ]
  },
  {
   "cell_type": "markdown",
   "metadata": {},
   "source": [
    "______\n",
    "\n",
    "# Definition - *Mean Recurrence Time*\n",
    "\n",
    "### Recall: If a chain is erdogic, it cannot have any absorbing states\n",
    "\n",
    "## Then, we know that after enough steps, for any pair of states $s_{i}$ and $s_{j}$, there is a non-zero probability that the process will transition from state $s_{i}$ to $s_{j}$"
   ]
  },
  {
   "cell_type": "markdown",
   "metadata": {},
   "source": [
    "## From this, we can extrapolate the idea that there is a non-zero probability that $s_{i}$ will transition to state $s_{j}$, then back to state $s_{i}$\n",
    "\n",
    "## The *Mean Recurrence Time* for $s_{i}$ tells us the expected number of steps it'll take for the process to transition away from $s_{i}$, then back to $s_{i}$\n",
    "\n",
    "## The mean recurrence time for $s_{i}$ is denoted $r_{i}$"
   ]
  },
  {
   "cell_type": "markdown",
   "metadata": {},
   "source": [
    "## (1) $m_{ij} = 1 + \\sum_{k\\neq j} p_{ik}m_{kj}$"
   ]
  },
  {
   "cell_type": "markdown",
   "metadata": {},
   "source": [
    "## (2) $r_{i} = 1 + \\sum_{k}p_{ik}m_{ki}$"
   ]
  },
  {
   "cell_type": "markdown",
   "metadata": {},
   "source": [
    "_____\n",
    "\n",
    "# Mean First Passage Matrix & Mean Recurrence Matrix"
   ]
  },
  {
   "cell_type": "markdown",
   "metadata": {},
   "source": [
    "## Let $M$ be the *mean first passage matrix*\n",
    "\n",
    "## The element $m_{ij}$ represents the mean passage time from $s_{i}$ to $s_{j}$\n",
    "\n",
    "### Recall: $m_{ii}=0$  by definition $\\implies$ the diagonals of $M$ are all zero"
   ]
  },
  {
   "cell_type": "markdown",
   "metadata": {},
   "source": [
    "## Let $D$ be the *mean recurrence matrix*\n",
    "\n",
    "## $D$ has all zero values, except on the diagonal where $d_{ii} = r_{i}$ i.e. the mean recurrence time for state $s_{i}$"
   ]
  },
  {
   "cell_type": "markdown",
   "metadata": {},
   "source": [
    "## Let $C$ be the matrix of all 1s"
   ]
  },
  {
   "cell_type": "markdown",
   "metadata": {},
   "source": [
    "# $M = PM + C - D \\implies (I-P)M = C-D$"
   ]
  },
  {
   "cell_type": "markdown",
   "metadata": {},
   "source": [
    "____\n",
    "\n",
    "# Theorem 11.15\n",
    "\n",
    "### For an erdogic Markov chain, the mean recurrence time for state $s_{i}$ is $r_{i} = \\frac{1}{w_{i}}$"
   ]
  },
  {
   "cell_type": "markdown",
   "metadata": {},
   "source": [
    "_____\n",
    "\n",
    "## Example\n",
    "\n",
    "### For a fixed probability vector $w = [1/12, 1/8, 1/12, 1/8, 1/6, 1/8, 1/12, 1/8, 1/12]$ "
   ]
  },
  {
   "cell_type": "markdown",
   "metadata": {},
   "source": [
    "### We calculate the mean recurrence times as $r = [12, 8, 12, 8, 6, 8, 12, 8, 12]$"
   ]
  },
  {
   "cell_type": "markdown",
   "metadata": {},
   "source": [
    "### This implies that to when the process leaves $s_{1}$, it will take around 12 steps before the process returns"
   ]
  },
  {
   "cell_type": "markdown",
   "metadata": {},
   "source": [
    "_____\n",
    "\n",
    "## Example\n",
    "\n",
    "### In the Land of Oz example, we found that $w = [2/5, 1/5, 2/5]$"
   ]
  },
  {
   "cell_type": "markdown",
   "metadata": {},
   "source": [
    "### This means that we expect there to be 2.5 days between rainy days, 2.5 days between snowy days, and 5 days between nice days"
   ]
  }
 ],
 "metadata": {
  "kernelspec": {
   "display_name": "Python 2",
   "language": "python",
   "name": "python2"
  },
  "language_info": {
   "codemirror_mode": {
    "name": "ipython",
    "version": 2
   },
   "file_extension": ".py",
   "mimetype": "text/x-python",
   "name": "python",
   "nbconvert_exporter": "python",
   "pygments_lexer": "ipython2",
   "version": "2.7.11"
  }
 },
 "nbformat": 4,
 "nbformat_minor": 0
}
