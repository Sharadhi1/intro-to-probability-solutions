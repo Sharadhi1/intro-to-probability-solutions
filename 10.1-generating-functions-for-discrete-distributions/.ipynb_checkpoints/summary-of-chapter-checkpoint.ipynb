{
 "cells": [
  {
   "cell_type": "markdown",
   "metadata": {},
   "source": [
    "# We'll see in this section that $\\mu$ and $\\sigma$ aren't enough to describe a density\n",
    "\n",
    "## Example\n",
    "\n",
    "### Suppose $X$ and $Y$ are random variables, with distributions:\n",
    "\n",
    "# $p_{X} = \\bigl(\\begin{smallmatrix}1 & 2 & 3 & 4 & 5 & 6\\\\ 0 & 1/4 & 1/2 & 0 & 0 & 1/4\\end{smallmatrix}\\bigr)$\n",
    "\n",
    "# $p_{Y} = \\bigl(\\begin{smallmatrix}1 & 2 & 3 & 4 & 5 & 6\\\\ 1/4 & 0 & 0 & 1/2 & 1/4 & 0\\end{smallmatrix}\\bigr)$"
   ]
  },
  {
   "cell_type": "markdown",
   "metadata": {},
   "source": [
    "### $E(X) = (2)(1/4)+ (3)(1/2) + (6)(1/4) = 7/2$\n",
    "\n",
    "### $E(X^{2}) = (2^{2})(1/4)+ (3^{2})(1/2) + (6^{2})(1/4) = 29/2 \\implies V(X) = 29/2 - 49/4 = 9/4$"
   ]
  },
  {
   "cell_type": "markdown",
   "metadata": {},
   "source": [
    "### $E(Y) = (1)(1/4) + (4)(1/2) + (5)(1/4) = 7/2$\n",
    "\n",
    "### $E(Y^{2}) = (1^{2})(1/4) + (4^{2})(1/2) + (5^{2})(1/4) = 29/2 \\implies V(Y) = 9/4$"
   ]
  },
  {
   "cell_type": "markdown",
   "metadata": {},
   "source": [
    "### So, we can see that the mean and variance are the same, but the distributions are very different"
   ]
  },
  {
   "cell_type": "markdown",
   "metadata": {},
   "source": [
    "# Our new question is: what else do we need to know about $X$ and $Y$?"
   ]
  },
  {
   "cell_type": "markdown",
   "metadata": {},
   "source": [
    "___\n",
    "\n",
    "# *Moments*\n",
    "\n",
    "# $\\mu_{k} = k^{th}\\text{ moment of the mean} = E(X^{k}) = \\sum(x_{i})^{k}p_{X}(x_{i})$\n",
    "\n",
    "# $\\implies \\mu = \\mu_{1}$ and $\\sigma^{2} = \\mu_{2} - \\mu_{1}^{2}$\n",
    "\n",
    "### So if the know the first two moments, we know the mean and variance\n",
    "\n",
    "## But if we know *all* the moments of the mean, we know everything about the density"
   ]
  },
  {
   "cell_type": "markdown",
   "metadata": {},
   "source": [
    "_____\n",
    "\n",
    "# *Moment Generating Functions*\n",
    "\n",
    "### Let's define a function $g(t)$ as:\n",
    "\n",
    "# $g(t) = E(e^{tX}) = \\sum \\frac{\\mu_{k}t^{k}}{k!} = E \\left ( \\sum \\frac{X^{k}t^{k}}{k!} \\right ) = \\sum e^{tx_{i}}p(x_{i})$\n",
    "\n",
    "### This function $g(t)$ is the *moment generating function for $X$*\n",
    "\n",
    "# If we differentiate $g(t)$ $k$-times and set $t=0$, then we get $\\mu_{k}$"
   ]
  },
  {
   "cell_type": "markdown",
   "metadata": {},
   "source": [
    "______\n",
    "\n",
    "# *Examples of Moment Generating Functions*\n",
    "\n",
    "## A)\n",
    "\n",
    "### Suppose $X$ has range $[1,2,...,n]$ and $p_{X}(x) = \\frac{1}{n}$\n",
    "\n",
    "### Then $g(t) = \\sum e^{kt}\\frac{1}{n} = \\frac{e^{t} + e^{2t} + ... + e^{nt}}{n} = \\frac{e^{t}(e^{nt}-1)}{n(e^{t} - 1)}$\n",
    "\n",
    "### $\\implies g^{'}(t) = \\frac{1e^{t} + 2e^{2t}+...+ne^{nt}}{n} \\implies g^{'}(0) = \\frac{1+2+...+n}{n} = \\frac{n+1}{2}$"
   ]
  }
 ],
 "metadata": {
  "kernelspec": {
   "display_name": "Python 2",
   "language": "python",
   "name": "python2"
  },
  "language_info": {
   "codemirror_mode": {
    "name": "ipython",
    "version": 2
   },
   "file_extension": ".py",
   "mimetype": "text/x-python",
   "name": "python",
   "nbconvert_exporter": "python",
   "pygments_lexer": "ipython2",
   "version": "2.7.11"
  }
 },
 "nbformat": 4,
 "nbformat_minor": 0
}
