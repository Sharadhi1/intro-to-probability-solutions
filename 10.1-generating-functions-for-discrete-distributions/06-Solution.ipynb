{
 "cells": [
  {
   "cell_type": "markdown",
   "metadata": {},
   "source": [
    "# Let $p$ be the probability distribution\n",
    "\n",
    "# $p = \\bigl(\\begin{smallmatrix}0 & 1 & 2\\\\ 0 & 1/3 & 2/3\\end{smallmatrix}\\bigr)$\n",
    "\n",
    "# and let $p_{n} = p*p*...*p$ be the $n$-fold convolution of $p$ with itself\n",
    "\n",
    "## a) Find $p_{2}$ by direct calculation\n",
    "\n",
    "## b) Find $h(z)$ and $h_{2}(t)$ for $p$ and $p_{2}$ and verify that $h_{2}(z) = \\left ( h(z) \\right )^{2}$\n",
    "\n",
    "## c) Find $h_{n}(z)$ using $h(z)$\n",
    "\n",
    "## d) Find the first to moments, then the variance, of $p_{n}$ using $h_{n}(z)$. Verify that the mean of $p_{n}$ is equal to $n$ times the mean of $p$\n",
    "\n",
    "## e) Find the integers $j$ for which $p_{n}(j)>0$ from $h_{n}(z)$"
   ]
  },
  {
   "cell_type": "markdown",
   "metadata": {},
   "source": [
    "_____\n",
    "\n",
    "# a)\n",
    "\n",
    "# Recall: Definition of Convolution\n",
    "\n",
    "## Let $X$ and $Y$ be two independent integer-valued random variables with distribution functions $m_{1}(x)$ and $m_{2}(x)$ respectively\n",
    "\n",
    "## Then the convolution of $m_{1}$ and $m_{2}$ is the distribtion $m_{3} = m_{1}*m_{2}$ given by:\n",
    "\n",
    "# $m_{3}(j) = \\sum m_{1}(k)m_{2}(j-k)$"
   ]
  },
  {
   "cell_type": "markdown",
   "metadata": {},
   "source": [
    "# So in this case, we have $p_{2}(j) = \\sum p(k)p(j-k)$\n",
    "\n",
    "# $p_{2}(0) = 0$\n",
    "\n",
    "# $p_{2}(1) = p(0)p(1) + p(1)p(0) = 0$\n",
    "\n",
    "# $p_{2}(2) = 2p(0)p(2) + p(1)p(1) = 0 + \\frac{1}{3}\\frac{1}{3} = \\frac{1}{9}$\n",
    "\n",
    "# $p_{2}(3) = 2p(1)p(2) = 2\\frac{1}{3}\\frac{2}{3} = \\frac{4}{9}$\n",
    "\n",
    "# $p_{2}(4) = p(2)p(2) = \\frac{4}{9}$\n",
    "\n",
    "# $\\implies p_{2} = \\bigl(\\begin{smallmatrix}0 & 1 & 2 & 3 & 4\\\\ 0 & 0 & 1/9 & 4/9 & 4/9\\end{smallmatrix}\\bigr)$"
   ]
  },
  {
   "cell_type": "markdown",
   "metadata": {},
   "source": [
    "_____\n",
    "\n",
    "# b)\n",
    "\n",
    "# $h(z) = (0)z^{0} + (1/3)z^{1} + (2/3)z^{2} = \\frac{z + 2z^{2}}{3}$\n",
    "\n",
    "# $h_{2}(z) = (0)z^{0} + (1)"
   ]
  }
 ],
 "metadata": {
  "kernelspec": {
   "display_name": "Python 2",
   "language": "python",
   "name": "python2"
  },
  "language_info": {
   "codemirror_mode": {
    "name": "ipython",
    "version": 2
   },
   "file_extension": ".py",
   "mimetype": "text/x-python",
   "name": "python",
   "nbconvert_exporter": "python",
   "pygments_lexer": "ipython2",
   "version": "2.7.11"
  }
 },
 "nbformat": 4,
 "nbformat_minor": 0
}
