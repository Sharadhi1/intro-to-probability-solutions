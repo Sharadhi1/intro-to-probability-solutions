{
 "cells": [
  {
   "cell_type": "markdown",
   "metadata": {},
   "source": [
    "# A doctor assumes that a patient has one of three diseases: $d_{1}$, $d_{2}$, $d_{3}$\n",
    "\n",
    "# Before any test, he assumes an equal probability of each disease\n",
    "\n",
    "# He carries out a test that will be positive with probability 0.8 if the patient has $d_{1}$, 0.6 if he has $d_{2}$, and 0.4 if he has $d_{3}$\n",
    "\n",
    "# Given that the outcome of the test was positive, what probabilities should the doctor now assign to the three possible diseases?"
   ]
  },
  {
   "cell_type": "markdown",
   "metadata": {},
   "source": [
    "___\n",
    "\n",
    "# First, let's summarize all our information\n",
    "\n",
    "- $P(d_{1}) = p$\n",
    "- $P(d_{2}) = p$\n",
    "- $P(d_{3}) = p$\n",
    "- $P(+|d_{1}) = 0.8$\n",
    "- $P(+|d_{2}) = 0.6$\n",
    "- $P(+|d_{3}) = 0.4$"
   ]
  }
 ],
 "metadata": {
  "kernelspec": {
   "display_name": "Python 2",
   "language": "python",
   "name": "python2"
  },
  "language_info": {
   "codemirror_mode": {
    "name": "ipython",
    "version": 2
   },
   "file_extension": ".py",
   "mimetype": "text/x-python",
   "name": "python",
   "nbconvert_exporter": "python",
   "pygments_lexer": "ipython2",
   "version": "2.7.11"
  }
 },
 "nbformat": 4,
 "nbformat_minor": 0
}
