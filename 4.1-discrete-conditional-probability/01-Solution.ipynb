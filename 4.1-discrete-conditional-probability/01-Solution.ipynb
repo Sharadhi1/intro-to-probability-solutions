{
 "cells": [
  {
   "cell_type": "markdown",
   "metadata": {},
   "source": [
    "# 1. Assume that $E$ and $F$ are two events with positive probabilities\n",
    "\n",
    "# Show that $P(E|F) = P(E) \\implies P(F|E) = P(F)$"
   ]
  },
  {
   "cell_type": "markdown",
   "metadata": {},
   "source": [
    "___\n",
    "## $P(E|F) = \\frac{P(E \\cap F)}{P(F)}$\n",
    "\n",
    "## So, for this problem $P(E) = \\frac{P(E \\cap F)}{P(F)}\\implies P(F) = \\frac{P(E \\cap F)}{P(E)} \\implies P(F|E) = P(F)$"
   ]
  }
 ],
 "metadata": {
  "kernelspec": {
   "display_name": "Python [default]",
   "language": "python",
   "name": "python3"
  },
  "language_info": {
   "codemirror_mode": {
    "name": "ipython",
    "version": 3
   },
   "file_extension": ".py",
   "mimetype": "text/x-python",
   "name": "python",
   "nbconvert_exporter": "python",
   "pygments_lexer": "ipython3",
   "version": "3.5.3"
  }
 },
 "nbformat": 4,
 "nbformat_minor": 2
}
