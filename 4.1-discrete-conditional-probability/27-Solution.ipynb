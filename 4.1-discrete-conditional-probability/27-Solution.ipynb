{
 "cells": [
  {
   "cell_type": "markdown",
   "metadata": {},
   "source": [
    "# In London, it rains 50% of the time\n",
    "\n",
    "# The weather forecaster is correct with her estimates 2/3 of the time (when she says it'll rain, it does 2/3 of the time; same for not raining)\n",
    "\n",
    "# When rain is in the forecast, Mr. Pickwick always takes his umbrella\n",
    "\n",
    "# When rain is not in the forecast, Mr. Pickwick takes his umbrella 1/3 of the time\n",
    "\n",
    "# Find:\n",
    "\n",
    "### a) the probability that Pickwich has no umbrella, given that it's raining\n",
    "\n",
    "### b) the probability that he brought his umbrella, gibven that it's not raining"
   ]
  },
  {
   "cell_type": "markdown",
   "metadata": {},
   "source": [
    "___\n",
    "# a) $P(\\text{Has no umbrella | It's raining}) = \\frac{P(\\text{Has no umbrella } \\cap \\text{ It's raining})}{P(\\text{It's raining}}$"
   ]
  }
 ],
 "metadata": {
  "kernelspec": {
   "display_name": "Python 2",
   "language": "python",
   "name": "python2"
  },
  "language_info": {
   "codemirror_mode": {
    "name": "ipython",
    "version": 2
   },
   "file_extension": ".py",
   "mimetype": "text/x-python",
   "name": "python",
   "nbconvert_exporter": "python",
   "pygments_lexer": "ipython2",
   "version": "2.7.11"
  }
 },
 "nbformat": 4,
 "nbformat_minor": 0
}
