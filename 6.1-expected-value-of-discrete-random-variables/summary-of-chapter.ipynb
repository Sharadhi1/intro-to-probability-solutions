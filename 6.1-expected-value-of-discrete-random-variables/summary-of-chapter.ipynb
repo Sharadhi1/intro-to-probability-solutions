{
 "cells": [
  {
   "cell_type": "markdown",
   "metadata": {},
   "source": [
    "### Definition 6.1\n",
    "\n",
    "# $E(X) = \\sum_{x \\in \\Omega}xm(x)$"
   ]
  },
  {
   "cell_type": "markdown",
   "metadata": {},
   "source": [
    "### Theorem 6.1\n",
    "\n",
    "- $X$ is a discrete random variable with sample space $\\Omega$ and distribution function $m(x)$\n",
    "- $\\phi:\\Omega \\rightarrow R$ is a function\n",
    "\n",
    "#### Then\n",
    "\n",
    "# $E(\\phi(X)) = \\sum_{x\\in\\Omega}\\phi(x)m(x)$\n",
    "\n",
    "#### E.g. if $X$ is the roll of a die and $\\phi(x) = x \\% 2$ then $E(\\phi(X)) = \\frac{1}{6}(1\\%2)+...+\\frac{1}{6}(6\\%2) = \\frac{3}{6}(1) + \\frac{3}{6}(0) = 1$"
   ]
  }
 ],
 "metadata": {
  "kernelspec": {
   "display_name": "Python 3",
   "language": "python",
   "name": "python3"
  },
  "language_info": {
   "codemirror_mode": {
    "name": "ipython",
    "version": 3
   },
   "file_extension": ".py",
   "mimetype": "text/x-python",
   "name": "python",
   "nbconvert_exporter": "python",
   "pygments_lexer": "ipython3",
   "version": "3.6.4"
  }
 },
 "nbformat": 4,
 "nbformat_minor": 2
}
