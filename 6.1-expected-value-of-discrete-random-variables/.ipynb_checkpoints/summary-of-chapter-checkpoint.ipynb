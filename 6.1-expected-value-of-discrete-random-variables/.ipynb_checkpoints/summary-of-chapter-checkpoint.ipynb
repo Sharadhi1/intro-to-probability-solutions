{
 "cells": [
  {
   "cell_type": "markdown",
   "metadata": {},
   "source": [
    "### Definition 6.1\n",
    "\n",
    "# $E(X) = \\sum_{x \\in \\Omega}xm(x)$"
   ]
  },
  {
   "cell_type": "markdown",
   "metadata": {},
   "source": [
    "___\n",
    "\n",
    "### Theorem 6.1\n",
    "\n",
    "- $X$ is a discrete random variable with sample space $\\Omega$ and distribution function $m(x)$\n",
    "- $\\phi:\\Omega \\rightarrow R$ is a function\n",
    "\n",
    "#### Then\n",
    "\n",
    "# $E(\\phi(X)) = \\sum_{x\\in\\Omega}\\phi(x)m(x)$\n",
    "\n",
    "#### E.g. if $X$ is the roll of a die and $\\phi(x) = x \\% 2$ then $E(\\phi(X)) = \\frac{1}{6}(1\\%2)+...+\\frac{1}{6}(6\\%2) = \\frac{3}{6}(1) + \\frac{3}{6}(0) = 1$"
   ]
  },
  {
   "cell_type": "markdown",
   "metadata": {},
   "source": [
    "____\n",
    "### Theorem 6.2\n",
    "\n",
    "- Let $X$ and $Y$ be random variables with finite expected values\n",
    "- Then:\n",
    "\n",
    "# $E(X+Y) = E(X) + E(Y)$"
   ]
  },
  {
   "cell_type": "markdown",
   "metadata": {},
   "source": [
    "___\n",
    "## Bernoulli Trials\n",
    "\n",
    "### Theorem 6.3\n",
    "\n",
    "- Let $S_{n}$ be the number of successes in $n$ Bernoulli trials with parameter $p$\n",
    "\n",
    "- Then:\n",
    "\n",
    "# $E(S_{n}) = np$"
   ]
  },
  {
   "cell_type": "markdown",
   "metadata": {},
   "source": [
    "____\n",
    "\n",
    "## Poisson distribution\n",
    "\n",
    "- Recall that the poisson distribution approximates a Binomial distribution with $n\\rightarrow \\infty$ and parameter $p$\n",
    "    - $\\lambda = np$, and since the Binomial distribution is simply a series of Bernoulli trials, the expected value of the Binomial distribution is simply $np$\n",
    "    \n",
    "### Therefore the expected value of a Poisson distribution is equal to $\\lambda$"
   ]
  },
  {
   "cell_type": "markdown",
   "metadata": {},
   "source": [
    "___\n",
    "\n",
    "## Independence\n",
    "\n",
    "- If $X$ and $Y$ are two random variables, it is **not** generally true that $E(X\\cdot Y) = E(X)\\cdot E(Y)$\n",
    "\n",
    "- However, **if $X$ and $Y$ are independent**, then:\n",
    "\n",
    "### Theorem 6.4\n",
    "\n",
    "# $E(X\\cdot Y) = E(X) \\cdot E(Y)$"
   ]
  },
  {
   "cell_type": "markdown",
   "metadata": {},
   "source": [
    "___\n",
    "\n"
   ]
  }
 ],
 "metadata": {
  "kernelspec": {
   "display_name": "Python 2",
   "language": "python",
   "name": "python2"
  },
  "language_info": {
   "codemirror_mode": {
    "name": "ipython",
    "version": 2
   },
   "file_extension": ".py",
   "mimetype": "text/x-python",
   "name": "python",
   "nbconvert_exporter": "python",
   "pygments_lexer": "ipython2",
   "version": "2.7.11"
  }
 },
 "nbformat": 4,
 "nbformat_minor": 2
}
