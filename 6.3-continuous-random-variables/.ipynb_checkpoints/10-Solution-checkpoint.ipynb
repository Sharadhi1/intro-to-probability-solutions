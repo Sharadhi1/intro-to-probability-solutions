{
 "cells": [
  {
   "cell_type": "markdown",
   "metadata": {},
   "source": [
    "# Let $X$ and $Y$ be independent random variables with uniform density functions on $[0,1]$\n",
    "\n",
    "# Find\n",
    "\n",
    "## a) $E(|X-Y|)$\n",
    "\n",
    "## b) $E(max(X,Y))$\n",
    "\n",
    "## c) $E(min(X,Y))$\n",
    "\n",
    "## d) $E(X^{2}+Y^{2})$\n",
    "\n",
    "## e) $E((X+Y)^{2})$"
   ]
  },
  {
   "cell_type": "markdown",
   "metadata": {},
   "source": [
    "___\n",
    "\n",
    "# a)\n",
    "\n",
    "## We start thinking about this by fixing $X$ at 0\n",
    "\n",
    "## Then $E(|X-Y|\\text{ given }X=0) = \\int_{0}^{1}(y-0)dy = \\frac{1}{2}$\n",
    "\n",
    "## Now, fix $X$ at $\\frac{1}{4}$\n",
    "\n",
    "## $E(|X-Y|\\text{ given }X=\\frac{1}{4}) = \\int_{0}^{\\frac{1}{4}}(\\frac{1}{4} - y)dy + \\int_{\\frac{1}{4}}^{1}(y-\\frac{1}{4})dy$\n",
    "\n",
    "## $= \\left (\\frac{1}{4}y - \\frac{1}{2}y^{2} \\right )|^{\\frac{1}{4}}_{0} + \\left (\\frac{1}{2}y^{2} - \\frac{1}{4}y \\right )|^{1}_{\\frac{1}{4}} = \\left(\\frac{1}{4}\\cdot\\frac{1}{4}  - \\frac{1}{2}(\\frac{1}{4})^{2} \\right ) + \\left [ (\\frac{1}{2} - \\frac{1}{4}) -  (\\frac{1}{2}(\\frac{1}{4})^{2} - (\\frac{1}{4})^{2}) \\right ]$\n",
    "\n",
    "## $ = \\frac{1}{16} - \\frac{1}{32} + \\frac{1}{4} + \\frac{1}{32} = \\frac{5}{16}$\n",
    "\n",
    "## It doesn't really matter what these integrals are actually equal to, since we see the general way to calculate the expected value when we fix some $X=x_{0}$\n",
    "\n",
    "## $E(|X-Y|\\text{ given }X=x_{0}) = \\int_{0}^{x_{0}}(x_{0} - y)dy + \\int_{x_{0}}^{1}(y-x_{0})dy$\n",
    "\n",
    "## $ = \\left ( x_{0}y - \\frac{y^{2}}{2} \\right )|^{x_{0}}_{0} + \\left ( \\frac{y^{2}}{2} - x_{0}y \\right )|_{x_{0}}^{1} = \\left ( \\frac{x_{0}^{2}}{2} \\right ) + \\left ( \\frac{1}{2} - x_{0} + \\frac{x_{0}^{2}}{2} \\right ) = x_{0}^{2} - x_{0} + \\frac{1}{2}$\n",
    "\n",
    "## Therefore $E(|X-Y|) = \\int^{1}_{0}\\left ( x^{2} - x + \\frac{1}{2}\\right ) dx = \\frac{x^{3}}{3} - \\frac{x^{2}}{2} + \\frac{1}{2} = \\frac{1}{3}$"
   ]
  },
  {
   "cell_type": "markdown",
   "metadata": {},
   "source": [
    "____\n",
    "\n",
    "# b)\n",
    "\n",
    "## We use the same process of fixing $X=x_{0}$ and we get:\n",
    "\n",
    "## $E(max(X,Y)\\text{ given }X=x_{0}) \\int_{0}^{x_{0}}x_{0}dy + \\int_{x_{0}}^{1}ydy = \\frac{x_{0}^{2}}{2} + \\frac{1}{2}$\n",
    "\n",
    "\n",
    "\n",
    "## Therefore $E(max(X,Y)) = \\int^{1}_{0}\\left (\\frac{x^{2}}{2} + \\frac{1}{2} \\right )dx = \\frac{2}{3}$"
   ]
  }
 ],
 "metadata": {
  "kernelspec": {
   "display_name": "Python 2",
   "language": "python",
   "name": "python2"
  },
  "language_info": {
   "codemirror_mode": {
    "name": "ipython",
    "version": 2
   },
   "file_extension": ".py",
   "mimetype": "text/x-python",
   "name": "python",
   "nbconvert_exporter": "python",
   "pygments_lexer": "ipython2",
   "version": "2.7.11"
  }
 },
 "nbformat": 4,
 "nbformat_minor": 0
}
