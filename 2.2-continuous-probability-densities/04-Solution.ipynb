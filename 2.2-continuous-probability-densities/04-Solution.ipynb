{
 "cells": [
  {
   "cell_type": "markdown",
   "metadata": {},
   "source": [
    "# Suppose you throw a dart at a circular target of radius 10 inches\n",
    "\n",
    "# Assuming that you hit the target and that the coordinates of the outcomes are chosen at random, and the probability that the dart falls\n",
    "\n",
    "## a) within 2 inches of the center\n",
    "\n",
    "## b) within 2 inches of the rim\n",
    "\n",
    "## c) within the first quadrant of the target\n",
    "\n",
    "## d) within the first quadrant and within the 2 inches of the rim"
   ]
  },
  {
   "cell_type": "markdown",
   "metadata": {},
   "source": [
    "___\n",
    "\n",
    "# We calculate the area of the dart board as:\n",
    "\n",
    "# $ A = \\pi R^{2} = \\pi 10^{2} = 100\\pi$\n",
    "\n",
    "## So for a circle"
   ]
  }
 ],
 "metadata": {
  "kernelspec": {
   "display_name": "Python 2",
   "language": "python",
   "name": "python2"
  },
  "language_info": {
   "codemirror_mode": {
    "name": "ipython",
    "version": 2
   },
   "file_extension": ".py",
   "mimetype": "text/x-python",
   "name": "python",
   "nbconvert_exporter": "python",
   "pygments_lexer": "ipython2",
   "version": "2.7.11"
  }
 },
 "nbformat": 4,
 "nbformat_minor": 0
}
