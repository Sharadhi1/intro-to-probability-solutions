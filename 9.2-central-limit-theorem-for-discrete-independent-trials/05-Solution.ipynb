{
 "cells": [
  {
   "cell_type": "markdown",
   "metadata": {},
   "source": [
    "# A die is thrown until the first time the total sum of the face value of the die is 700 or greater\n",
    "\n",
    "# Estimate the probability that, for this to happen,\n",
    "\n",
    "## a) more than 210 tosses are required\n",
    "\n",
    "## b) less than 190 tosses are required\n",
    "\n",
    "## c) Between 180 and 210 tosses (inclusive) are required"
   ]
  },
  {
   "cell_type": "markdown",
   "metadata": {},
   "source": [
    "_______\n",
    "\n",
    "# $S_{n} = X_{1} + X_{2} + ... + X_{n}$\n",
    "\n",
    "# $E(S_{n}) = n\\frac{7}{2}$\n",
    "\n",
    "# $V(S_{n}) = nV(X_{i}) = n\\frac{35}{12} \\implies \\sigma_{S_{n}} = \\sqrt{n\\frac{35}{12}}$\n",
    "\n",
    "# $\\implies P(S_{n} \\geq 700) = \\int_{x^{*}}^{\\infty}\\phi(x)dx$ where $x^{*} = \\frac{700 - n\\cdot\\frac{7}{2}}{\\sqrt{n\\frac{35}{12}}}$"
   ]
  },
  {
   "cell_type": "markdown",
   "metadata": {},
   "source": [
    "______\n",
    "\n",
    "# a)\n"
   ]
  }
 ],
 "metadata": {
  "kernelspec": {
   "display_name": "Python 2",
   "language": "python",
   "name": "python2"
  },
  "language_info": {
   "codemirror_mode": {
    "name": "ipython",
    "version": 2
   },
   "file_extension": ".py",
   "mimetype": "text/x-python",
   "name": "python",
   "nbconvert_exporter": "python",
   "pygments_lexer": "ipython2",
   "version": "2.7.11"
  }
 },
 "nbformat": 4,
 "nbformat_minor": 0
}
