{
 "cells": [
  {
   "cell_type": "markdown",
   "metadata": {},
   "source": [
    "# For Example 11.11, verify that the fundamental matrix is equal to\n",
    "\n",
    "![](images/5.PNG)"
   ]
  },
  {
   "cell_type": "markdown",
   "metadata": {},
   "source": [
    "_____\n",
    "\n",
    "![](../11.1-intro-to-markov-chains/images/11.11-matrix.PNG)"
   ]
  },
  {
   "cell_type": "markdown",
   "metadata": {},
   "source": [
    "### We convert this to its canonical form"
   ]
  },
  {
   "cell_type": "markdown",
   "metadata": {},
   "source": [
    "# $P = \\begin{pmatrix}0.5 & 0 & 0 & 0.25 & 0 & 0\\\\ 0.25 & 0.25 & 0.25 & 0.062 & 0.125 & 0.0625\\\\ 0 & 0.25 & 0.5 & 0 & 0 & 0.25\\\\ 0 & 0 & 0 & 1 & 0 & 0\\\\ 0 & 0 & 0 & 0 & 1 & 0\\\\ 0 & 0 & 0 & 0 & 0 & 1\\end{pmatrix}$"
   ]
  },
  {
   "cell_type": "markdown",
   "metadata": {},
   "source": [
    "# $Q = \\begin{pmatrix}0.5 & 0 & 0\\\\ 0.25 & 0.25 & 0.25\\\\ 0 & 0.25 & 0.5\\end{pmatrix}$"
   ]
  },
  {
   "cell_type": "markdown",
   "metadata": {},
   "source": [
    "# $\\implies (I-Q) = \\begin{pmatrix}0.5 & 0 & 0\\\\ -0.25 & 0.75 & -0.25\\\\ 0 & -0.25 & 0.5\\end{pmatrix}$"
   ]
  },
  {
   "cell_type": "code",
   "execution_count": 1,
   "metadata": {
    "collapsed": true
   },
   "outputs": [],
   "source": [
    "import numpy as np"
   ]
  },
  {
   "cell_type": "code",
   "execution_count": 3,
   "metadata": {
    "collapsed": false
   },
   "outputs": [],
   "source": [
    "matrix = np.array([[0.5,0,0],[-0.25,0.75,-0.25],[0,-0.25,0.5]])"
   ]
  },
  {
   "cell_type": "code",
   "execution_count": 6,
   "metadata": {
    "collapsed": false
   },
   "outputs": [
    {
     "data": {
      "text/plain": [
       "array([[ 2. ,  0. ,  0. ],\n",
       "       [ 0.8,  1.6,  0.8],\n",
       "       [ 0.4,  0.8,  2.4]])"
      ]
     },
     "execution_count": 6,
     "metadata": {},
     "output_type": "execute_result"
    }
   ],
   "source": [
    "N = np.linalg.inv(matrix)\n",
    "N"
   ]
  },
  {
   "cell_type": "code",
   "execution_count": 5,
   "metadata": {
    "collapsed": false
   },
   "outputs": [
    {
     "data": {
      "text/plain": [
       "array([[ 2. ,  0. ,  0. ],\n",
       "       [ 0.8,  1.6,  0.8],\n",
       "       [ 0.4,  0.8,  2.4]])"
      ]
     },
     "execution_count": 5,
     "metadata": {},
     "output_type": "execute_result"
    }
   ],
   "source": [
    "N"
   ]
  },
  {
   "cell_type": "markdown",
   "metadata": {},
   "source": [
    "## I fucked it up (GG,gg isn't an absorbing state) I'll fix it later"
   ]
  }
 ],
 "metadata": {
  "kernelspec": {
   "display_name": "Python 2",
   "language": "python",
   "name": "python2"
  },
  "language_info": {
   "codemirror_mode": {
    "name": "ipython",
    "version": 2
   },
   "file_extension": ".py",
   "mimetype": "text/x-python",
   "name": "python",
   "nbconvert_exporter": "python",
   "pygments_lexer": "ipython2",
   "version": "2.7.11"
  }
 },
 "nbformat": 4,
 "nbformat_minor": 0
}
