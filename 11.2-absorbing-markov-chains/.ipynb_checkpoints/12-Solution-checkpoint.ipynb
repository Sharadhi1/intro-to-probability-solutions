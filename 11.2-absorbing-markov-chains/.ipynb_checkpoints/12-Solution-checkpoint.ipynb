{
 "cells": [
  {
   "cell_type": "markdown",
   "metadata": {},
   "source": [
    "# Three tanks fight a three way duel\n",
    "\n",
    "# Tank A has probability 1/2 of destroying the tank it fires at\n",
    "\n",
    "# Tank B has probability 1/3 of destroying the tank it fires at\n",
    "\n",
    "# Tank C has probability 1/6 of destroying the tank it fires at\n",
    "\n",
    "# The tanks fire all at once, and each tank fires at the strongest opponent\n",
    "\n",
    "#  Form a Markov chain by taking as states the subsets of the set of tanks\n",
    "\n",
    "## a) Find $N$\n",
    "\n",
    "## b) Find $Nc$\n",
    "\n",
    "## c) Find $NR$\n",
    "\n",
    "# What do the results mean?\n",
    "\n",
    "### Hint: Take as states ABC, AC, BC, A, B, C, and none, indicating the tanks that could survive starting in state ABC. You can omit AB because this state cannot be reached from ABC"
   ]
  },
  {
   "cell_type": "markdown",
   "metadata": {},
   "source": [
    "_____\n",
    "\n",
    "## First of all, we know that states $A$, $B$, $C$, and $\\emptyset$ are all absorbing states"
   ]
  },
  {
   "cell_type": "markdown",
   "metadata": {},
   "source": [
    "## Next, for state $BC$, we can either transition to state $BC$, $B$, $C$, or state $\\emptyset$\n",
    "\n",
    "### 1. $P(BC \\rightarrow BC) = (1-1/3)(1-1/6) = 5/9$\n",
    "\n",
    "### 2. $P(BC \\rightarrow B) = (1/3)(1-1/6) = 5/18$\n",
    "\n",
    "### 3. $P(BC \\rightarrow C) = (1-1/3)(1/6) = 1/9$\n",
    "\n",
    "### 4. $P(BC \\rightarrow \\emptyset) = (1/3)(1/6) = 1/18$"
   ]
  },
  {
   "cell_type": "markdown",
   "metadata": {},
   "source": [
    "## For state $AC$, we can either transition to state $AC$, $A$, $C$, or $\\emptyset$\n",
    "\n",
    "### 1. $P(AC \\rightarrow AC) = (1-1/2)(1-1/6) = 5/12$\n",
    "\n",
    "### 2. $P(AC \\rightarrow A) = (1/2)(1-1/6) = 5/12$\n",
    "\n",
    "### 3. $P(AC \\rightarrow C) = (1-1/2)(1/6) = 1/12$\n",
    "\n",
    "### 4. $P(AC \\rightarrow \\emptyset) = (1/2)(1/6) = 1/12$"
   ]
  },
  {
   "cell_type": "markdown",
   "metadata": {},
   "source": [
    "## Finally, for state $ABC$, we can go to any state\n",
    "\n",
    "### 1. $P(ABC \\rightarrow ABC) = (1-1/2)(1-1/3)(1-1/6) = (1/2)(2/3)(5/6) = 5/18$\n",
    "\n",
    "### 2. $P(ABC \\rightarrow \\emptyset)$\n",
    "\n",
    "#### We have to think about this one - tank A will fire at tank B, tank B will fire at tank A, and tank C will fire at tank A\n",
    "\n",
    "#### Therefore, it's impossible that tank C is destroyed (since no one is firing at it)\n",
    "\n",
    "#### $\\implies P(ABC \\rightarrow \\emptyset) = 0$\n",
    "\n",
    "### 3. $P(ABC \\rightarrow AC)$\n",
    "\n",
    "#### Tank A will fire at tank B, tank B will fire at tank A, and tank C will fire at tank A\n",
    "\n",
    "### $\\implies  P(ABC \\rightarrow AC) = (1/2)(1-1/3)(5/6) = 5/18$\n",
    "\n",
    "### 4. $P(ABC \\rightarrow BC)$\n",
    "\n",
    "#### Tank A will fire at tank B, tank B will fire at tank A, and tank C will fire at tank A\n",
    "\n",
    "- B could kill A, and C could miss [(1-1/2)(1/3)(5/6) = 5/36]\n",
    "- C could kill A, and B could miss [(1-1/2)(2/3)(1/6) = 2/36]\n",
    "- They could both kill A [(1-1/2)(1/3)(1/6) = 1/36]\n",
    "\n",
    "### $\\implies  P(ABC \\rightarrow AC) = 5/36+2/36+1/36 = 2/9$"
   ]
  },
  {
   "cell_type": "markdown",
   "metadata": {},
   "source": [
    "### 5. $P(ABC \\rightarrow A)$\n",
    "\n",
    "#### This cannot happen since no one is firing at tank C\n",
    "\n",
    "### $\\implies  P(ABC \\rightarrow A) = 0$\n",
    "\n",
    "### 6. $P(ABC \\rightarrow B) = 0$\n",
    "\n"
   ]
  }
 ],
 "metadata": {
  "kernelspec": {
   "display_name": "Python 2",
   "language": "python",
   "name": "python2"
  },
  "language_info": {
   "codemirror_mode": {
    "name": "ipython",
    "version": 2
   },
   "file_extension": ".py",
   "mimetype": "text/x-python",
   "name": "python",
   "nbconvert_exporter": "python",
   "pygments_lexer": "ipython2",
   "version": "2.7.11"
  }
 },
 "nbformat": 4,
 "nbformat_minor": 0
}
