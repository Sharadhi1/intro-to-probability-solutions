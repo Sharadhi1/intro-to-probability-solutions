{
 "cells": [
  {
   "cell_type": "markdown",
   "metadata": {},
   "source": [
    "# Smith is in jail and has 3 dollars; he can get out on bail if he has 8 dollars\n",
    "\n",
    "# A guard agrees to make a series of bets with him\n",
    "\n",
    "# If Smith bets $A$ dollars, he wins $A$ dollars with probability 0.4 and wins $A$ dollars with probability 0.6\n",
    "\n",
    "# Find the probability that he wins 8 dollars before losing all his money if:\n",
    "\n",
    "## a) he bets 1 dollar each time (timid strategy)\n",
    "\n",
    "## b) he bets, each time, as much as possible but not more than necessary to bring his fortune up to 8 dollars (bold strategy)\n",
    "\n",
    "## c) Which strategy gives Smith the better chance of getting out of jail?"
   ]
  },
  {
   "cell_type": "markdown",
   "metadata": {},
   "source": [
    "____\n",
    "\n",
    "# a) Timid Strategy\n",
    "\n",
    "## There are 9 states each representing the number of dollars Smith has won: [1,2,3,4,5,6,7,8,0]\n",
    "\n",
    "## When he loses all his money, he cannot play anymore\n",
    "\n",
    "## When he has won 8 dollars, he stops playing\n",
    "\n",
    "## That means that both 0 and 8 are absorbing states\n",
    "\n",
    "## We can represent the process with the following transition matrix"
   ]
  },
  {
   "cell_type": "markdown",
   "metadata": {},
   "source": [
    "![](images/13.PNG)"
   ]
  },
  {
   "cell_type": "markdown",
   "metadata": {},
   "source": [
    "# $\\implies Q = \\begin{pmatrix}0 & 0.4 & 0 & 0 & 0 & 0 & 0\\\\ 0.6 & 0 & 0.4 & 0 & 0 & 0 & 0\\\\ 0 & 0.6 & 0 & 0.4 & 0 & 0 & 0\\\\ 0 & 0 & 0.6 & 0 & 0.4 & 0 & 0\\\\ 0 & 0 & 0 & 0.6 & 0 & 0.4 & 0\\\\ 0 & 0 & 0 & 0 & 0.6 & 0 & 0.4\\\\ 0 & 0 & 0 & 0 & 0 & 0.6 & 0\\end{pmatrix}$"
   ]
  },
  {
   "cell_type": "markdown",
   "metadata": {},
   "source": [
    "# $\\implies (I-Q) = \\begin{pmatrix}1 & -0.4 & 0 & 0 & 0 & 0 & 0\\\\ -0.6 & 1 & -0.4 & 0 & 0 & 0 & 0\\\\ 0 & -0.6 & 1 & -0.4 & 0 & 0 & 0\\\\ 0 & 0 & -0.6 & 1 & -0.4 & 0 & 0\\\\ 0 & 0 & 0 & -0.6 & 1 & -0.4 & 0\\\\ 0 & 0 & 0 & 0 & -0.6 & 1 & -0.4\\\\ 0 & 0 & 0 & 0 & 0 & -0.6 & 1\\end{pmatrix}$"
   ]
  },
  {
   "cell_type": "markdown",
   "metadata": {},
   "source": [
    "**Using numpy to solve for the inverse**"
   ]
  },
  {
   "cell_type": "code",
   "execution_count": 12,
   "metadata": {},
   "outputs": [],
   "source": [
    "import numpy as np\n",
    "import pandas as pd"
   ]
  },
  {
   "cell_type": "code",
   "execution_count": 44,
   "metadata": {},
   "outputs": [],
   "source": [
    "matrix = np.array([[1, -0.4, 0, 0, 0, 0, 0],\n",
    "                  [-0.6, 1, -0.4, 0, 0, 0, 0],\n",
    "                  [0, -0.6, 1, -0.4, 0, 0, 0],\n",
    "                  [0, 0, -0.6, 1, -0.4, 0, 0],\n",
    "                  [0, 0, 0, -0.6, 1, -0.4, 0],\n",
    "                   [0, 0, 0, 0, -0.6, 1, -0.4],\n",
    "                  [0, 0, 0, 0, 0, -0.6, 1]])"
   ]
  },
  {
   "cell_type": "code",
   "execution_count": 46,
   "metadata": {},
   "outputs": [],
   "source": [
    "N = np.linalg.inv(matrix)"
   ]
  },
  {
   "cell_type": "markdown",
   "metadata": {},
   "source": [
    "# We know that to solve for the absorption probabilities, we must calculate $NR$"
   ]
  },
  {
   "cell_type": "markdown",
   "metadata": {},
   "source": [
    "# $R = \\begin{pmatrix}0 & 0.6\\\\ 0 & 0\\\\0 & 0\\\\0 & 0\\\\0 & 0\\\\0 & 0\\\\0.4 & 0\\end{pmatrix}$"
   ]
  },
  {
   "cell_type": "code",
   "execution_count": 47,
   "metadata": {},
   "outputs": [],
   "source": [
    "R = np.array([[0, 0.6],\n",
    "             [0,0],\n",
    "             [0,0],\n",
    "             [0,0],\n",
    "             [0,0],\n",
    "             [0,0],\n",
    "             [0.4,0]])"
   ]
  },
  {
   "cell_type": "code",
   "execution_count": 48,
   "metadata": {},
   "outputs": [],
   "source": [
    "NR = np.matmul(N, R)"
   ]
  },
  {
   "cell_type": "code",
   "execution_count": 49,
   "metadata": {},
   "outputs": [
    {
     "data": {
      "text/plain": [
       "array([[0.02030135, 0.97969865],\n",
       "       [0.05075337, 0.94924663],\n",
       "       [0.0964314 , 0.9035686 ],\n",
       "       [0.16494845, 0.83505155],\n",
       "       [0.26772403, 0.73227597],\n",
       "       [0.42188739, 0.57811261],\n",
       "       [0.65313243, 0.34686757]])"
      ]
     },
     "execution_count": 49,
     "metadata": {},
     "output_type": "execute_result"
    }
   ],
   "source": [
    "NR"
   ]
  },
  {
   "cell_type": "markdown",
   "metadata": {},
   "source": [
    "# Since we know we start with 3 dollars, we only care about the third row\n",
    "\n",
    "# $[0.0964314, 0.9035686]$\n",
    "\n",
    "# This means that the probability that Smith gets to 8 dollars is only 0.0964"
   ]
  },
  {
   "cell_type": "markdown",
   "metadata": {},
   "source": [
    "______\n",
    "\n",
    "# b)\n",
    "\n",
    "# We repeat the same analysis for the bold strategy"
   ]
  }
 ],
 "metadata": {
  "kernelspec": {
   "display_name": "Python 3",
   "language": "python",
   "name": "python3"
  },
  "language_info": {
   "codemirror_mode": {
    "name": "ipython",
    "version": 3
   },
   "file_extension": ".py",
   "mimetype": "text/x-python",
   "name": "python",
   "nbconvert_exporter": "python",
   "pygments_lexer": "ipython3",
   "version": "3.6.4"
  }
 },
 "nbformat": 4,
 "nbformat_minor": 2
}
