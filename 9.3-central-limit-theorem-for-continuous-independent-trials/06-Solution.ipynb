{
 "cells": [
  {
   "cell_type": "markdown",
   "metadata": {},
   "source": [
    "# In general, the CLT gives a better estimate than Chebyshev's inequality for the average of a sum\n",
    "\n",
    "# To see this, take $A_{25}$ and let $N$ be its normal approximation\n",
    "\n",
    "# Provide a table of the function $F(x) = P(|A_{25} - 10|\\leq x)$\n",
    "\n",
    "# $= \\left ( \\text{Fraction of the total of 1000 trials for which } |A_{25}| \\geq x \\right )$\n",
    "\n",
    "# Do the same for $N(x)$\n",
    "\n",
    "# Plot these two functions, along with the Chebyshev function $g(x) = \\frac{4}{(3x^{2})}$"
   ]
  },
  {
   "cell_type": "markdown",
   "metadata": {},
   "source": [
    "___________"
   ]
  },
  {
   "cell_type": "code",
   "execution_count": 1,
   "metadata": {
    "collapsed": true
   },
   "outputs": [],
   "source": [
    "import numpy as np\n",
    "import matplotlib.pyplot as plt\n",
    "%matplotlib inline\n",
    "plt.rcParams['figure.figsize'] = 10, 10\n",
    "from scipy.stats import norm"
   ]
  },
  {
   "cell_type": "code",
   "execution_count": null,
   "metadata": {
    "collapsed": true
   },
   "outputs": [],
   "source": [
    "mu = 10\n",
    "sigma = np.sqrt()"
   ]
  }
 ],
 "metadata": {
  "kernelspec": {
   "display_name": "Python 2",
   "language": "python",
   "name": "python2"
  },
  "language_info": {
   "codemirror_mode": {
    "name": "ipython",
    "version": 2
   },
   "file_extension": ".py",
   "mimetype": "text/x-python",
   "name": "python",
   "nbconvert_exporter": "python",
   "pygments_lexer": "ipython2",
   "version": "2.7.11"
  }
 },
 "nbformat": 4,
 "nbformat_minor": 0
}
