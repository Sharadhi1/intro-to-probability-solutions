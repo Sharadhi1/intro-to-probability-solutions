{
 "cells": [
  {
   "cell_type": "markdown",
   "metadata": {},
   "source": [
    "# Let $X$, $Y$, and $Z$ be independent random variables with:\n",
    "\n",
    "# $ f_{X}(x) = f_{Y}(y) = f_{Z}(x) = \\left\\{\\begin{matrix}1 & 0 \\leq x \\leq 1\\\\ 0 & otherwise\\end{matrix}\\right.$\n",
    "\n",
    "# Suppose that $W = X + Y + Z$. \n",
    "\n",
    "# Find $f_{W}$ directly, and compare your answer to the one given by the formula in Example 7.9"
   ]
  },
  {
   "cell_type": "markdown",
   "metadata": {},
   "source": [
    "_____\n",
    "\n",
    "# $X$, $Y$, and $Z$ all have the standard uniform density\n",
    "\n",
    "## Let's take samples from each and plot them"
   ]
  },
  {
   "cell_type": "code",
   "execution_count": 4,
   "metadata": {},
   "outputs": [],
   "source": [
    "import numpy as np\n",
    "import pandas as pd\n",
    "import matplotlib.pyplot as plt\n",
    "%matplotlib inline\n",
    "plt.rcParams['figure.figsize'] = 10, 10"
   ]
  },
  {
   "cell_type": "code",
   "execution_count": 6,
   "metadata": {},
   "outputs": [
    {
     "data": {
      "image/png": "[encoded data removed]",
      "text/plain": [
       "<matplotlib.figure.Figure at 0x1e943a92320>"
      ]
     },
     "metadata": {},
     "output_type": "display_data"
    }
   ],
   "source": [
    "n = 100000\n",
    "X = np.random.random(size = n)\n",
    "Y = np.random.random(size = n)\n",
    "Z = np.random.random(size = n)\n",
    "\n",
    "W = X+Y+Z\n",
    "\n",
    "plt.hist(W, bins = 100, normed = True)\n",
    "plt.show()"
   ]
  },
  {
   "cell_type": "markdown",
   "metadata": {},
   "source": [
    "# Let $\\bar{X} = X+Y \\implies f_{\\bar{X}}(\\bar{x}) = \\left\\{\\begin{matrix}\\bar{x} & 0 \\leq \\bar{x} \\leq 1\\\\ 2-\\bar{x} & 1 \\leq \\bar{x} \\leq 2\\end{matrix}\\right.$\n",
    "\n",
    "# Then $W = X + Y + Z = \\bar{X} + Z$"
   ]
  },
  {
   "cell_type": "code",
   "execution_count": null,
   "metadata": {},
   "outputs": [],
   "source": []
  }
 ],
 "metadata": {
  "kernelspec": {
   "display_name": "Python 3",
   "language": "python",
   "name": "python3"
  },
  "language_info": {
   "codemirror_mode": {
    "name": "ipython",
    "version": 3
   },
   "file_extension": ".py",
   "mimetype": "text/x-python",
   "name": "python",
   "nbconvert_exporter": "python",
   "pygments_lexer": "ipython3",
   "version": "3.6.4"
  }
 },
 "nbformat": 4,
 "nbformat_minor": 2
}
