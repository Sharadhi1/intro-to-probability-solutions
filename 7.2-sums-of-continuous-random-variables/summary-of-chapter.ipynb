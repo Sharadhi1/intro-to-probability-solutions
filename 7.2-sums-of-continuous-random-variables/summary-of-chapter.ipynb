{
 "cells": [
  {
   "cell_type": "markdown",
   "metadata": {},
   "source": [
    "# *Convolutions*\n",
    "\n",
    "# Definition 7.2\n",
    "\n",
    "### Let $X$ and $Y$ be two continuous random variables with density functions $f(x)$ and $g(y)$\n",
    "\n",
    "### Then, the *convolution* $f*g$ of $f$ and $g$ is defined as:\n",
    "\n",
    "# $(f*g)(\\alpha_{0}) = \\int_{-\\infty}^{\\infty}f(\\alpha_{0}-y)g(y)dy = \\int_{-\\infty}^{\\infty}f(x)g(\\alpha_{0}-x)dx$"
   ]
  },
  {
   "cell_type": "markdown",
   "metadata": {},
   "source": [
    "____\n",
    "\n",
    "# Theorem 7.1\n",
    "\n",
    "### Let $X$ and $Y$ be two independent random variables with density functions $f_{X}(x)$ and $f_{Y}(y)$\n",
    "\n",
    "### Then the sum $Z=X+Y$ is a random variable with density function $f_{Z}(z)$, where $f_{Z}$ is the convolution of $f_{X}$ and $f_{Y}$"
   ]
  },
  {
   "cell_type": "markdown",
   "metadata": {},
   "source": [
    "___\n",
    "\n",
    "# *Sum of Two Independent Uniform Random Variables*\n",
    "\n",
    "## Example\n",
    "\n",
    "### Let $X$ and $Y$ be random variables distributed uniformly on $[0,1]$ and $Z=X+Y$\n",
    "\n",
    "### From the definition above, we know that \n",
    "\n",
    "# $f_{Z}(z) = \\int_{-\\infty}^{\\infty}f_{X}(z-y)f_{Y}(y)dy$\n",
    "\n",
    "### We know $f_{X}(x) = f_{Y}(x) = 1$ when $0\\leq x \\leq 1$\n",
    "\n",
    "### The minimum value for $Z$ is 0, and the maximum is 2\n",
    "\n",
    "### Let's break $0\\leq z \\leq 2$ into two parts: i) $[0,1]$ and $[1,2]$\n",
    "\n",
    "### i)\n",
    "\n",
    "### For $f_{X}(z-y)$ and $f_{Y}(y)$ to be non-zero, we need $0 \\leq z-y$ and $0\\leq y \\implies 0 \\leq y \\leq z$\n",
    "\n",
    "### Therefore on $[0,1]$, $f_{Z}(z) = \\int_{0}^{z}dy = z$\n",
    "\n",
    "### ii)\n",
    "\n",
    "### For $f_{X}(z-y)$ and $f_{Y}(y)$ to be non-zero, we need $z-y \\leq 1 \\implies z-1 \\leq y$ and $y<1 \\implies z-1 \\leq y \\leq 1$\n",
    "\n",
    "### Therefore on $[1,2]$, $f_{Z}(z) = \\int_{z-1}^{1}dy = 1 - (z-1) = 2-z$\n",
    "\n",
    "### So the expression for $f_{Z}(z)$ is given by:\n",
    "\n",
    "# $f_{Z}(z) = \\left\\{\\begin{matrix} z & \\text{ ; if }z\\leq 1\\\\ 2-z & \\text{ ; if }z>1 \\end{matrix}\\right.$"
   ]
  },
  {
   "cell_type": "markdown",
   "metadata": {},
   "source": [
    "_____\n",
    "\n",
    "# *Sum of Two Independent Exponential Random Variables*\n",
    "\n",
    "## Example\n",
    "\n",
    "### We choose two values $X$ and $Y$ at random on $[0, \\infty)$ with an exponential density and parameter $\\lambda$\n",
    "\n",
    "### What is the density of $Z = X+Y$?\n",
    "\n",
    "### We know $f_{X}(x) = f_{Y}(x) = \\lambda e^{-\\lambda x}$ when $x\\geq 0$\n",
    "\n",
    "### Using the definition above, we get $f_{Z}(z) = \\int_{0}^{z}\\lambda e^{-\\lambda(z-y)} \\cdot \\lambda e^{-\\lambda y}dy = \\lambda^{2}\\int_{0}^{z}e^{-\\lambda (z-y+y)}dy = \\lambda^{2}e^{-\\lambda z}z$"
   ]
  }
 ],
 "metadata": {
  "kernelspec": {
   "display_name": "Python 2",
   "language": "python",
   "name": "python2"
  },
  "language_info": {
   "codemirror_mode": {
    "name": "ipython",
    "version": 2
   },
   "file_extension": ".py",
   "mimetype": "text/x-python",
   "name": "python",
   "nbconvert_exporter": "python",
   "pygments_lexer": "ipython2",
   "version": "2.7.11"
  }
 },
 "nbformat": 4,
 "nbformat_minor": 0
}
