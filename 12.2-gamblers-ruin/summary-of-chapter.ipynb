{
 "cells": [
  {
   "cell_type": "markdown",
   "metadata": {},
   "source": [
    "### In this section, we don't assume that each $X_{i}$ is symmetrically distributed\n",
    "\n",
    "### Let $p$ and $q$ be positive numbers and $p+q=1$\n",
    "\n",
    "### Let $f_{X}(x) = \\left\\{\\begin{matrix}p & ;x=1\\\\ q & ;x=-1\\end{matrix}\\right.$"
   ]
  },
  {
   "cell_type": "markdown",
   "metadata": {},
   "source": [
    "### Then, our random walk essentially becomes a series of tosses of an unfair coin"
   ]
  },
  {
   "cell_type": "markdown",
   "metadata": {},
   "source": [
    "_____\n",
    "\n",
    "# *Gambler's Ruin Problem*\n",
    "\n",
    "### A gambler starts with a value of $s$\n",
    "\n",
    "### She bets $1$ on each game\n",
    "\n",
    "### She plays until she reaches a total of $M$ or 0\n",
    "\n",
    "### Note: in the language of Markov chains, $M$ and 0 are absorbing states"
   ]
  },
  {
   "cell_type": "markdown",
   "metadata": {},
   "source": [
    "### If she's playing the casino, we can assume they have unlimited money to lose and therefore $M$ has no limit\n",
    "\n",
    "### If we set $M=\\infty$, then the question becomes *how long can she play until she runs out of money?*"
   ]
  },
  {
   "cell_type": "markdown",
   "metadata": {},
   "source": [
    "_____\n",
    "\n",
    "### Let $M$ be some finite value\n",
    "\n",
    "### Let $q_{k}$ be the probability that the gambler reaches 0 before $M$ when the starting wager is $k$"
   ]
  },
  {
   "cell_type": "markdown",
   "metadata": {},
   "source": [
    "### Note: $q_{0}=1$, and $q_{M}=0$ (i.e. if the gambler starts with $M$ dollars, the probability that she'll get to 0 before $M$ is 0)"
   ]
  }
 ],
 "metadata": {
  "kernelspec": {
   "display_name": "Python 2",
   "language": "python",
   "name": "python2"
  },
  "language_info": {
   "codemirror_mode": {
    "name": "ipython",
    "version": 2
   },
   "file_extension": ".py",
   "mimetype": "text/x-python",
   "name": "python",
   "nbconvert_exporter": "python",
   "pygments_lexer": "ipython2",
   "version": "2.7.11"
  }
 },
 "nbformat": 4,
 "nbformat_minor": 0
}
