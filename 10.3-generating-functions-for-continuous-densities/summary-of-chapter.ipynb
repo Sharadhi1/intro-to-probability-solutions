{
 "cells": [
  {
   "cell_type": "markdown",
   "metadata": {},
   "source": [
    "# *Moments*\n",
    "\n",
    "# $\\mu_{n} = E(X^{n}) = \\int_{-\\infty}^{\\infty}x^{n}\\cdot f_{X}(x)dx$\n",
    "\n",
    "# $\\mu_{0} = 1$, $\\mu_{1} = \\mu$ and $\\sigma^{2} = \\mu_{2} - \\mu_{1}{2}$"
   ]
  },
  {
   "cell_type": "markdown",
   "metadata": {},
   "source": [
    "_____\n",
    "\n",
    "# *Moment Generating Functions*\n",
    "\n",
    "# $g(t) = E(e^{tX}) = \\int_{-\\infty}^{\\infty}e^{tx}\\cdot f_{X}(x)dx \\implies \\mu{n} = g^{(n)}(0)$"
   ]
  },
  {
   "cell_type": "markdown",
   "metadata": {},
   "source": [
    "____\n",
    "\n",
    "## Example\n",
    "\n",
    "### Let $X$ be a continuous random variable with range $[0,1]$ and density function $f(x) = 1$ i.e. uniform density\n",
    "\n",
    "### $\\implies \\mu_{n} = \\int_{0}^{1}x^{n}dx = \\frac{1}{n+1}$\n",
    "\n",
    "### $\\implies g(t) = \\int_{0}^{1}e^{tx}dx = \\frac{e^{t}-1}{t} \\implies g^{'}(t) =  \\frac{te^{t} - e^{t} + 1}{t^{2}}$\n",
    "\n",
    "### $g(0) = 0/0$ and $g^{'}(0) = 0/0 \\implies$ we need to use l'Hopital's rule $\\implies g(0) = 1$, $g^{'}(0) = 1/2$"
   ]
  },
  {
   "cell_type": "markdown",
   "metadata": {},
   "source": [
    "____\n",
    "\n",
    "## Example\n",
    "\n",
    "### Let $X$ have range $[0,\\infty)$ and density $f_{X}(x) = \\lambda e^{-\\lambda x}$\n",
    "\n",
    "### $\\implies \\mu_{n} = \\int_{0}^{\\infty}x^{n}e^{-\\lambda x}dx = \\frac{n!}{\\lambda^{n}}$\n",
    "\n",
    "### $\\implies g(t) = \\int_{0}^{\\infty}e^{tx}e^{-\\lambda x}dx = \\frac{\\lambda}{\\lambda-t} \\implies g^{'}(t) = \\frac{\\lambda}{(\\lambda-t)^{2}}$\n",
    "\n",
    "### $\\implies \\mu_{0} = 1$, $\\mu_{1} = \\frac{1}{\\lambda}$\n"
   ]
  }
 ],
 "metadata": {
  "kernelspec": {
   "display_name": "Python 2",
   "language": "python",
   "name": "python2"
  },
  "language_info": {
   "codemirror_mode": {
    "name": "ipython",
    "version": 2
   },
   "file_extension": ".py",
   "mimetype": "text/x-python",
   "name": "python",
   "nbconvert_exporter": "python",
   "pygments_lexer": "ipython2",
   "version": "2.7.11"
  }
 },
 "nbformat": 4,
 "nbformat_minor": 0
}
