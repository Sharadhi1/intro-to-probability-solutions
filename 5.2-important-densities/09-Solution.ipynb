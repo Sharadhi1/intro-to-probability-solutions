{
 "cells": [
  {
   "cell_type": "markdown",
   "metadata": {},
   "source": [
    "# Let $U$, $V$ be random numbers chosen independently from the interval $[0,1]$ with uniform distribution\n",
    "\n",
    "# Find the cdf and pdf of the following\n",
    "\n",
    "\n",
    "## a) $Y=U+V$\n",
    "\n",
    "## b) $Y = \\left | U-V \\right |$"
   ]
  }
 ],
 "metadata": {
  "kernelspec": {
   "display_name": "Python 2",
   "language": "python",
   "name": "python2"
  },
  "language_info": {
   "codemirror_mode": {
    "name": "ipython",
    "version": 2
   },
   "file_extension": ".py",
   "mimetype": "text/x-python",
   "name": "python",
   "nbconvert_exporter": "python",
   "pygments_lexer": "ipython2",
   "version": "2.7.11"
  }
 },
 "nbformat": 4,
 "nbformat_minor": 0
}
