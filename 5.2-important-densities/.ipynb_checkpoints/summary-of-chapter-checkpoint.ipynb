{
 "cells": [
  {
   "cell_type": "markdown",
   "metadata": {},
   "source": [
    "# 1. Continuous Uniform Density\n",
    "\n",
    "- **Simplest** density function\n",
    "- Corresponds to a random variable $U$ whose value can be some real number in the interval $[a,b]$\n",
    "\n",
    "- The density function is given by:\n",
    "\n",
    "# $f(x) = \\left\\{\\begin{matrix}\\frac{1}{b-a} & \\text{if }a\\leq x \\leq b\\\\ 0 & otherwise\\end{matrix}\\right.$"
   ]
  },
  {
   "cell_type": "code",
   "execution_count": 5,
   "metadata": {},
   "outputs": [],
   "source": [
    "import numpy as np\n",
    "import pandas as pd\n",
    "import matplotlib.pyplot as plt\n",
    "%matplotlib inline\n",
    "plt.rcParams['figure.figsize'] = 10, 10"
   ]
  },
  {
   "cell_type": "code",
   "execution_count": 6,
   "metadata": {},
   "outputs": [
    {
     "data": {
      "text/plain": [
       "[<matplotlib.lines.Line2D at 0x2331c1b6128>]"
      ]
     },
     "execution_count": 6,
     "metadata": {},
     "output_type": "execute_result"
    },
    {
     "data": {
      "image/png": "[encoded data removed]",
      "text/plain": [
       "<matplotlib.figure.Figure at 0x2331a66a048>"
      ]
     },
     "metadata": {},
     "output_type": "display_data"
    }
   ],
   "source": [
    "x = np.arange(1,11)\n",
    "y = 0.1*np.ones(len(x))\n",
    "plt.plot(x,y)"
   ]
  },
  {
   "cell_type": "markdown",
   "metadata": {},
   "source": [
    "# 2. Exponential and Gamma Densities"
   ]
  },
  {
   "cell_type": "markdown",
   "metadata": {},
   "source": [
    "- The **exponential density** function is defined by:\n",
    "\n",
    "# $f(x) = \\left\\{\\begin{matrix}\\lambda e^{-\\lambda x} & \\text{if }0\\leq x \\leq \\infty \\\\ 0 & otherwise\\end{matrix}\\right.$\n",
    "\n",
    "\n",
    "- We can see right away that if we integrate to get the cumulative distribution function $F(X)$:\n",
    "\n",
    "# $F(x) = \\left\\{\\begin{matrix}-e^{-\\lambda x} & \\text{if }0\\leq x \\leq \\infty \\\\ 0 & otherwise\\end{matrix}\\right.$\n",
    "\n",
    "- Which means that if we're integrating from 0 to some a:\n",
    "\n",
    "# $P(0\\leq X \\leq a) = 1 - e^{-\\lambda a}$\n",
    "\n",
    "- $\\lambda$ can be any positive constant\n",
    "    - Otherwise, the $e^{-\\lambda a}$ value in $P(0\\leq X \\leq a)$ would be greater than one leading to a negative probability\n",
    "        - *This doesn't make sense*"
   ]
  },
  {
   "cell_type": "markdown",
   "metadata": {},
   "source": [
    "![](images/summary1.PNG)"
   ]
  },
  {
   "cell_type": "markdown",
   "metadata": {},
   "source": [
    "- We use the exponential density to answer the question: **how long until the special event happens?**\n",
    "\n",
    "### Recall: the geometric distribution is *memoryless*\n",
    "\n",
    "- **The same is true of the exponential density**\n",
    "    - i.e. $P(X>r+s|X>r) = P(X>s)$\n",
    "    \n",
    "- We can show this pretty easily:\n",
    "\n",
    "### $P(X>r+s|X>r) = \\frac{P(X>r+s \\cap X>r) }{P(x>r)} = \\frac{P(X>r+s)}{P(X>r)} = \\frac{1 - P(X\\leq r+s)}{1 - P(X\\leq r)} = \\frac{1 - (1- e^{-\\lambda (r+s)})}{1 - (1- e^{-\\lambda r})} = \\frac{e^{-\\lambda (r+s)}}{e^{-\\lambda r}} = e^{-\\lambda s} = P(X>s)$"
   ]
  },
  {
   "cell_type": "markdown",
   "metadata": {},
   "source": [
    "### Exponential vs. Poisson\n",
    "\n",
    "- Let $X_{1}$, $X_{2}$, ..., $X_{n}$ be a set of independent exponentially distributed random variables with parameter $\\lambda$\n",
    "    - One way this could be applied is to let $X_{i}$ represent the amount of time between the $i^{th}$ and $(i+1)^{th}$ particle being emitted\n",
    "    \n",
    "- Now, we consider some time interval $t$, and let $Y$ be a random variable representing the number of emmissions that occur during the time interval\n",
    "\n",
    "- Let $S_{i} = X_{1} + X_{2} + ... + X_{i}$\n",
    "    - This means $S_{i}$ is equal to the amount of time required for particles 1 through $i$ to be emmitted\n",
    "    \n",
    "- Therefore, if we want to know the probability that there are $n$ emmissions that occur in time $t$:\n",
    "\n",
    "# $P(Y=n) = P(S_{n} \\leq t \\cap S_{n+1} > t)$\n",
    "\n",
    "- This means that the amount of time for $n$ particles to be emmitted must be less than $t$, but also that is requres more than $t$ to emit more than $n$ particles\n",
    "    - Otherwise, there would be $n+1$ emmissions in time $t$, and that's not what we're looking for\n",
    "    \n",
    "- This means that \n",
    "\n",
    "# $P(S_{n} \\leq t \\cap S_{n+1} > t) = P(S_{n} \\leq t) - P(S_{n+1} \\leq t)$"
   ]
  },
  {
   "cell_type": "markdown",
   "metadata": {},
   "source": [
    "### In chapter 7, the density of $S_{n}$ is derived as:\n",
    "\n",
    "# $g_{n}(x) = \\left\\{\\begin{matrix}\\lambda\\frac{(\\lambda x)^{n-1}}{(n-1)!} e^{-\\lambda x}&\\text{if }0\\leq x \\leq \\infty \\\\ 0 &otherwise\\end{matrix}\\right.$"
   ]
  },
  {
   "cell_type": "markdown",
   "metadata": {},
   "source": [
    "- The function above describes the **gamma function** with parameters $n$ and $\\lambda$"
   ]
  },
  {
   "cell_type": "markdown",
   "metadata": {},
   "source": [
    "- By induction, the cumulative distribution function for $g_{n}(x)$ aka $S_{n}$ is derived as:\n",
    "\n",
    "# $G_{n}(x) = \\left\\{\\begin{matrix}1- e^{-\\lambda x}(1+\\frac{\\lambda x}{1!}+...+\\frac{(\\lambda x)^{n-1}}{(n-1)!})&\\text{if }0\\leq x \\leq \\infty \\\\ 0 &otherwise\\end{matrix}\\right.$"
   ]
  },
  {
   "cell_type": "markdown",
   "metadata": {},
   "source": [
    "### Using $G_{n}$ to solve for $P(S_{n} \\leq t \\cap S_{n+1} > t)$:\n",
    "\n",
    "### $P(S_{n} \\leq t \\cap S_{n+1} > t) = G_{n}(t) - G_{n+1}(t) = e^{-\\lambda t}(1+\\frac{\\lambda t}{1!}+...+\\frac{(\\lambda t)^{n}}{n!}) - e^{-\\lambda t}(1+\\frac{\\lambda t}{1!}+...+\\frac{(\\lambda t)^{n-1}}{(n-1)!}) = e^{-\\lambda t}(\\frac{(\\lambda t)^{n}}{n!})$"
   ]
  },
  {
   "cell_type": "markdown",
   "metadata": {},
   "source": [
    "### But what is this expression? It's the poisson distribution (with parameters $n$ and $\\lambda t$)!"
   ]
  },
  {
   "cell_type": "markdown",
   "metadata": {},
   "source": [
    "## Example\n",
    "\n",
    "- Suppose that customers arrive at random times at a service station that has only one server\n",
    "\n",
    "- **How long should a customer expect to wait?**\n",
    "    - **Recall:** we said the exponential density deals with questions of *how long until a special event?*\n",
    "        - Here, the special event is being called to the service station\n",
    "        \n",
    "- The wait time is dependent on two factors:\n",
    "    1. The arrival time\n",
    "    2. The time it takes to service the customers ahead\n",
    "        \n",
    "- We assume that the arrival time of customer $i$ is given by the random variable $X_{i}$ with the density function $f(t) = \\lambda e^{-\\lambda t}$ therefore the cumulative distribution is given by $F(t) = 1 - e^{-\\lambda t}$\n",
    "\n",
    "- We also assume that the time is takes to service customer $i$ is given by the random variable $Y_{i}$ with the density function $f^{*}(t) = \\lambda^{*} e^{-\\lambda^{*} t}$ with $F(t) = 1 - e^{-\\lambda^{*} t}$\n",
    "\n",
    "- From here, we can simulate wait times based on these functions\n",
    "    - **Not gonna do it here**"
   ]
  },
  {
   "cell_type": "markdown",
   "metadata": {},
   "source": [
    "___\n",
    "# 3. Functions of a random variable"
   ]
  }
 ],
 "metadata": {
  "kernelspec": {
   "display_name": "Python 3",
   "language": "python",
   "name": "python3"
  },
  "language_info": {
   "codemirror_mode": {
    "name": "ipython",
    "version": 3
   },
   "file_extension": ".py",
   "mimetype": "text/x-python",
   "name": "python",
   "nbconvert_exporter": "python",
   "pygments_lexer": "ipython3",
   "version": "3.6.4"
  }
 },
 "nbformat": 4,
 "nbformat_minor": 2
}
