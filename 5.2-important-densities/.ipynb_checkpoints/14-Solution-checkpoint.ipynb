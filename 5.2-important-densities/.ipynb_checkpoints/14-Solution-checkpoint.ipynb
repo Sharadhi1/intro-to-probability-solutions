{
 "cells": [
  {
   "cell_type": "markdown",
   "metadata": {},
   "source": [
    "# A point $P$ in the unit square has coordinates $(x,y)$ each chosen at random from the interval $[0,1]$\n",
    "\n",
    "# Let $D$ be the distance from $P$ to the nearest edge and $E$ the distance to the nearest corner\n",
    "\n",
    "# What is the probability that:\n",
    "\n",
    "## a) $D<\\frac{1}{4}$\n",
    "\n",
    "## b) $E<\\frac{1}{4}$"
   ]
  },
  {
   "cell_type": "markdown",
   "metadata": {},
   "source": [
    "____\n",
    "\n",
    "# a)\n",
    "\n",
    "# If the distance to the edge is *greater* than $\\frac{1}{4}$, then we know the following conditions must be true:\n",
    "\n",
    "## i) $\\frac{1}{4} < x < \\frac{3}{4}$\n",
    "\n",
    "## ii) $\\frac{1}{4} < y < \\frac{3}{4}$\n",
    "\n",
    "# So $P(D>\\frac{1}{4}) = P((\\frac{1}{4} < x < \\frac{3}{4}) \\cap (\\frac{1}{4} < y < \\frac{3}{4}))$\n",
    "\n",
    "# $= P(\\frac{1}{4} < x < \\frac{3}{4})P(\\frac{1}{4} < y < \\frac{3}{4}) = \\frac{1}{2}\\frac{1}{2} = \\frac{1}{4}$\n",
    "\n",
    "# Therefore $P(D<\\frac{1}{4}) = 1 - P(D>\\frac{1}{4}) = 1 - \\frac{1}{4} = \\frac{3}{4}$"
   ]
  },
  {
   "cell_type": "markdown",
   "metadata": {},
   "source": [
    "____\n",
    "\n",
    "# b)\n",
    "\n",
    "# First, let's picture the problem\n",
    "\n",
    "![](images/14-1.png)"
   ]
  },
  {
   "cell_type": "markdown",
   "metadata": {},
   "source": [
    "### We use the Pythagorean theorem to calculate the length of the blue lines\n",
    "\n",
    "## $L_{1} = \\sqrt{x^{2} + y^{2}}$\n",
    "\n",
    "## $L_{2} = \\sqrt{(1-x)^{2} + y^{2}}$\n",
    "\n",
    "## $L_{3} = \\sqrt{(1-x)^{2} + (1-y)^{2}}$\n",
    "\n",
    "## $L_{4} = \\sqrt{x^{2} + (1-y)^{2}}$"
   ]
  },
  {
   "cell_type": "markdown",
   "metadata": {},
   "source": [
    "# For $E=\\frac{1}{4}$, we can visualize the combinations of $x$ and $y$ as:"
   ]
  },
  {
   "cell_type": "code",
   "execution_count": 1,
   "metadata": {
    "collapsed": true
   },
   "outputs": [],
   "source": [
    "import numpy as np\n",
    "import matplotlib.pyplot as plt\n",
    "%matplotlib inline\n",
    "plt.rcParams['figure.figsize'] = 10, 10"
   ]
  },
  {
   "cell_type": "code",
   "execution_count": 24,
   "metadata": {
    "collapsed": false
   },
   "outputs": [
    {
     "data": {
      "text/plain": [
       "<matplotlib.collections.PolyCollection at 0xd80fc88>"
      ]
     },
     "execution_count": 24,
     "metadata": {},
     "output_type": "execute_result"
    },
    {
     "data": {
      "image/png": "[encoded data removed]",
      "text/plain": [
       "<matplotlib.figure.Figure at 0xdbdcba8>"
      ]
     },
     "metadata": {},
     "output_type": "display_data"
    }
   ],
   "source": [
    "x = np.arange(0,1.01,0.01)\n",
    "y = np.ones(len(x))\n",
    "\n",
    "plt.fill_between(x,y,0)\n",
    "\n",
    "x1 = np.arange(0,0.26,0.01)\n",
    "y1 = np.sqrt(0.25**2-x1**2)\n",
    "plt.fill_between(x1,y1,0, color = 'r')\n",
    "\n",
    "x2 = np.arange(0.75,1.01,0.01)\n",
    "y2 = np.sqrt(0.25**2-(x2-1)**2)\n",
    "plt.fill_between(x2,y2,0, color = 'r')"
   ]
  },
  {
   "cell_type": "code",
   "execution_count": 22,
   "metadata": {
    "collapsed": false
   },
   "outputs": [
    {
     "data": {
      "text/plain": [
       "array([ nan,  nan,  nan,  nan,  nan,  nan,  nan,  nan,  nan,  nan,  nan,\n",
       "        nan,  nan,  nan,  nan,  nan,  nan,  nan,  nan,  nan,  nan,  nan,\n",
       "        nan,  nan,  nan,  nan])"
      ]
     },
     "execution_count": 22,
     "metadata": {},
     "output_type": "execute_result"
    }
   ],
   "source": [
    "y2"
   ]
  },
  {
   "cell_type": "code",
   "execution_count": null,
   "metadata": {
    "collapsed": true
   },
   "outputs": [],
   "source": []
  }
 ],
 "metadata": {
  "kernelspec": {
   "display_name": "Python 2",
   "language": "python",
   "name": "python2"
  },
  "language_info": {
   "codemirror_mode": {
    "name": "ipython",
    "version": 2
   },
   "file_extension": ".py",
   "mimetype": "text/x-python",
   "name": "python",
   "nbconvert_exporter": "python",
   "pygments_lexer": "ipython2",
   "version": "2.7.11"
  }
 },
 "nbformat": 4,
 "nbformat_minor": 0
}
