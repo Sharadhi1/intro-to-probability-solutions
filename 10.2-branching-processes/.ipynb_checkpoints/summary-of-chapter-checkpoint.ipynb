{
 "cells": [
  {
   "cell_type": "markdown",
   "metadata": {},
   "source": [
    "# *Problem of Extinction*\n",
    "\n",
    "### We want to figure out the probability of extinction for a family\n",
    "\n",
    "### We start in generation 0 with one male parent\n",
    "\n",
    "### The probability of having 0, 1, 2, 3, ..., male children are equal to $p_{1}$, $p_{2}$, $p_{3}$, ..."
   ]
  },
  {
   "cell_type": "markdown",
   "metadata": {},
   "source": [
    "### If there are $k$ male children in the first generation, then each male child will have $X_{1, i}$ male children of his own and the resulting total number of male offspring from that generation is equal to $X_{1, 1} + X_{1, 2} + ... + X_{1, k}$"
   ]
  },
  {
   "cell_type": "markdown",
   "metadata": {},
   "source": [
    "## Example\n",
    "\n",
    "### Assume that $p_{0} = \\frac{1}{2}$, $p_{1} = \\frac{1}{4}$ and $p_{2} = \\frac{1}{4}$\n",
    "\n",
    "### Then, the following tree diagram describes the population growth"
   ]
  },
  {
   "cell_type": "markdown",
   "metadata": {},
   "source": [
    "![](images/branching-table-1.PNG)"
   ]
  },
  {
   "cell_type": "markdown",
   "metadata": {},
   "source": [
    "### We want to zero-in on the probability that a family will die out"
   ]
  },
  {
   "cell_type": "markdown",
   "metadata": {},
   "source": [
    "## Let $d_{m}$ be the probability that a family dies out by the $m$th generation\n",
    "\n",
    "## $\\implies d_{0} = 0$\n",
    "\n",
    "## From our example, $d_{1} = 1/2$, $d_{2} = 1/2 + 1/8 + 1/16 = 11/16$"
   ]
  },
  {
   "cell_type": "markdown",
   "metadata": {},
   "source": [
    "### As we can see, we need to add the probability from previous generations i.e. $d_{1} \\leq d_{2} \\leq ...$"
   ]
  },
  {
   "cell_type": "markdown",
   "metadata": {},
   "source": [
    "### So, as $n\\rightarrow \\infty$, the values $d_{n} \\rightarrow d$ where $0\\leq d \\leq 1$\n",
    "\n",
    "### This value $d$ is what we want to solve for"
   ]
  },
  {
   "cell_type": "markdown",
   "metadata": {},
   "source": [
    "### For the first step, we consider all possible offspring in the first generation\n",
    "\n",
    "### Then, for each case, we know that if the family dies out, it occurs in the following $m-1$ generations\n",
    "\n",
    "# $\\implies d_{m} = p_{0} + p_{1}d_{m-1} + p_{2} \\left (d_{m-1} \\right )^{2}+ p_{3} \\left (d_{m-1} \\right )^{3}+...$\n",
    "\n",
    "### Note: the reason why we each $d_{m-1}$ term is of increasing power is because if we have offspring, the probability of the family dying off is $d_{m-1}$. However, if we have two offspring, both have to die off in $m-1$ generations which has probability $d_{m-1}^{2}$, etc."
   ]
  },
  {
   "cell_type": "markdown",
   "metadata": {},
   "source": [
    "### If we let $z = d_{m-1}$, then $d_{m} = p_{0}z^{0} + p_{1}z^{1} + p_{2}z^{2}+... = h(z)$\n",
    "\n",
    "### i.e. we represent our probability $d_{m}$ with an ordinary generating function $h(z) \\implies d_{m} = h(d_{m-1})$"
   ]
  },
  {
   "cell_type": "markdown",
   "metadata": {},
   "source": [
    "### Now, since $d_{m}\\rightarrow d$, we know for very very large $n$, $d_{m} \\approx d_{m-1} \\implies d = h(d)$\n",
    "\n",
    "### $\\implies d = p_{0}d^{0} + p_{1}d^{1} + p_{2}d^{2}+...$\n",
    "\n",
    "### One possible solution for this equation is $d=1$ since $p_{0}d^{0} + p_{1}d^{1} + p_{2}d^{2}+... = p_{0} + p_{1} + p_{2}+...$ and we know the probabilities for the possible number of offspring *must add up to zero*"
   ]
  },
  {
   "cell_type": "markdown",
   "metadata": {},
   "source": [
    "### We want to figure out how many possible solutions there are for $d$ (i.e. how many values other than $d=1$) such that the equation above is satisfied\n",
    "\n",
    "### We combine the three following facts:\n",
    "\n",
    "### 1. $h(0) = p_{0}$\n",
    "\n",
    "### 2. $h^{'}(z) = p_{1} + 2p_{2}z + ...$ which is always greater than zero\n",
    "\n",
    "### 3. $h^{''}(z) = 2p_{2}(z) + 6p_{3}z + ...$ which is also always greater than zero\n",
    "\n",
    "### Therefore $h(z)$ is always positive and is concave upwards\n",
    "\n",
    "### To solve for the $d$ values that satisfy the equation, we need to look at where the plot of $y = h(x)$ intersects with the line $y = 1$"
   ]
  },
  {
   "cell_type": "markdown",
   "metadata": {},
   "source": [
    "![](images/graphs1.PNG)"
   ]
  },
  {
   "cell_type": "markdown",
   "metadata": {},
   "source": [
    "### As we can see from the plots above, the function can intersect the line at most twice, one of which being at $d=1$\n",
    "\n",
    "### Since we know that $d$ is a probability, is cannot be greater than 1. In these cases, we know with certainty 1 that the process will die out"
   ]
  },
  {
   "cell_type": "markdown",
   "metadata": {},
   "source": [
    "### We note that $h^{'}(1) = p_{1} + 2p_{2} + 3p_{3}+... = m$ which is simply the weighted average number of children in the first generation (i.e. the EXPECTED NUMBER OF OFFSPRING from a single parent)"
   ]
  },
  {
   "cell_type": "markdown",
   "metadata": {},
   "source": [
    "### Looking at the three plots above, we can see that:\n",
    "\n",
    "### a) The slope at 1 is greater than the slope of the line $\\implies h^{'}(1)>1 \\implies m>1$\n",
    "\n",
    "### b) The slope at 1 is equal to the slope of the line $\\implies h^{'}(1)=1 \\implies m=1$\n",
    "\n",
    "### c) The slope at 1 is less than the slope of the line $\\implies h^{'}(1)<1 \\implies m=1$\n",
    "\n",
    "### In summary, when $d<1$, the expected number of offspring of a single parent is greater than 1"
   ]
  },
  {
   "cell_type": "markdown",
   "metadata": {},
   "source": [
    "### Recall, we let $z = d_{m-1}$ to show that $d_{m} = p_{0} + p_{1}z + p_{2}z^{2} + ... = h(d_{m-1})$\n",
    "\n",
    "### So $d_{1} = h(d_{0})$, $d_{2} = h(d_{1}) = h(h(d_{0}))$, ..., $d_{n} = h(d_{n-1}) = h^{n}(d_{0})$"
   ]
  },
  {
   "cell_type": "markdown",
   "metadata": {},
   "source": [
    "![](images/chart1.PNG)"
   ]
  }
 ],
 "metadata": {
  "kernelspec": {
   "display_name": "Python 3",
   "language": "python",
   "name": "python3"
  },
  "language_info": {
   "codemirror_mode": {
    "name": "ipython",
    "version": 3
   },
   "file_extension": ".py",
   "mimetype": "text/x-python",
   "name": "python",
   "nbconvert_exporter": "python",
   "pygments_lexer": "ipython3",
   "version": "3.6.4"
  }
 },
 "nbformat": 4,
 "nbformat_minor": 2
}
